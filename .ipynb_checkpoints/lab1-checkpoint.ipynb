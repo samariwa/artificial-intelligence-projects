{
 "cells": [
  {
   "cell_type": "code",
   "execution_count": 32,
   "id": "164aba31-71ec-4f76-9fd4-5c28ac489013",
   "metadata": {},
   "outputs": [
    {
     "name": "stdout",
     "output_type": "stream",
     "text": [
      "1001,1012,1023,1034,1045,1056,1067,1078,1089,1100,1111,1122,1133,1144,1155,1166,1177,1188,1199,1210,1221,1232,1243,1254,1265,1276,1287,1298,1309,1320,1331,1342,1353,1364,1375,1386,1397,1408,1419,1430,1441,1452,1463,1474,1485,1496,1507,1518,1529,1540,1551,1562,1573,1584,1595,1606,1617,1628,1639,1650,1661,1672,1683,1694,1705,1716,1727,1738,1749,1760,1771,1782,1793,1804,1815,1826,1837,1848,1859,1870,1881,1892,1903,1914,1925,1936,1947,1958,1969,1980,1991\n"
     ]
    }
   ],
   "source": [
    "seq = \"\"\n",
    "for i in range (1000, 2001):\n",
    "    if i % 11 == 0 and 1 % 3 != 0:\n",
    "        seq += str(i) + \",\"\n",
    "print(seq[:-1])"
   ]
  },
  {
   "cell_type": "code",
   "execution_count": null,
   "id": "9879aa3e-ff7c-4caa-a1b2-7be94c54b618",
   "metadata": {},
   "outputs": [],
   "source": []
  }
 ],
 "metadata": {
  "kernelspec": {
   "display_name": "base",
   "language": "python",
   "name": "base"
  },
  "language_info": {
   "codemirror_mode": {
    "name": "ipython",
    "version": 3
   },
   "file_extension": ".py",
   "mimetype": "text/x-python",
   "name": "python",
   "nbconvert_exporter": "python",
   "pygments_lexer": "ipython3",
   "version": "3.9.12"
  }
 },
 "nbformat": 4,
 "nbformat_minor": 5
}
