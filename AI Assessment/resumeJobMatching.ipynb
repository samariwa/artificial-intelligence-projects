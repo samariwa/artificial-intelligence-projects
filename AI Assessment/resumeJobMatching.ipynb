{
  "cells": [
    {
      "cell_type": "markdown",
      "source": [
        "#Resume Job Description Matching"
      ],
      "metadata": {
        "id": "xE1tdIWPs7wF"
      },
      "id": "xE1tdIWPs7wF"
    },
    {
      "cell_type": "markdown",
      "source": [
        "## Install dependencies"
      ],
      "metadata": {
        "id": "OB7BWs9YsqOP"
      },
      "id": "OB7BWs9YsqOP"
    },
    {
      "cell_type": "code",
      "source": [
        "'''\n",
        "Gensim and SpaCy need an older version of pandas. It is\n",
        "therefore necessary to uninstall and reinstall an older version\n",
        "pandas (v1.24.4) that is compatible with the library to avoid\n",
        "dependency clashes. At the same time it it necessary to install older\n",
        "versions of other libraries that will be imported in the project and\n",
        "depend on the latest version of pandas. Once installation is complete\n",
        "it is necessary to restart the session before running the next cells.\n",
        "'''\n",
        "# Uninstall conflicting versions to prevent dependency errors down the line.\n",
        "!pip uninstall -y numpy pandas scipy matplotlib transformers thinc spacy gensim\n",
        "# Reinstall compatible versions known to work together for this NLP task.\n",
        "!pip install \\\n",
        "  numpy==1.25.2 \\\n",
        "  pandas==2.0.3 \\\n",
        "  scipy==1.10.1 \\\n",
        "  gensim==4.3.0 \\\n",
        "  transformers==4.30.0 \\\n",
        "  spacy==3.7.2 \\\n",
        "  matplotlib==3.7.1\n",
        "\n",
        "import os\n",
        "os.kill(os.getpid(), 9)"
      ],
      "metadata": {
        "id": "kw2MNLQobtLH",
        "outputId": "e67f4270-1e2e-4405-e35d-298f469f1ba2",
        "colab": {
          "base_uri": "https://localhost:8080/",
          "height": 1000
        }
      },
      "id": "kw2MNLQobtLH",
      "execution_count": null,
      "outputs": [
        {
          "output_type": "stream",
          "name": "stdout",
          "text": [
            "Found existing installation: numpy 2.0.2\n",
            "Uninstalling numpy-2.0.2:\n",
            "  Successfully uninstalled numpy-2.0.2\n",
            "Found existing installation: pandas 2.2.2\n",
            "Uninstalling pandas-2.2.2:\n",
            "  Successfully uninstalled pandas-2.2.2\n",
            "Found existing installation: scipy 1.15.2\n",
            "Uninstalling scipy-1.15.2:\n",
            "  Successfully uninstalled scipy-1.15.2\n",
            "Found existing installation: matplotlib 3.10.0\n",
            "Uninstalling matplotlib-3.10.0:\n",
            "  Successfully uninstalled matplotlib-3.10.0\n",
            "Found existing installation: transformers 4.51.3\n",
            "Uninstalling transformers-4.51.3:\n",
            "  Successfully uninstalled transformers-4.51.3\n",
            "Found existing installation: thinc 8.3.6\n",
            "Uninstalling thinc-8.3.6:\n",
            "  Successfully uninstalled thinc-8.3.6\n",
            "Found existing installation: spacy 3.8.5\n",
            "Uninstalling spacy-3.8.5:\n",
            "  Successfully uninstalled spacy-3.8.5\n",
            "\u001b[33mWARNING: Skipping gensim as it is not installed.\u001b[0m\u001b[33m\n",
            "\u001b[0mCollecting numpy==1.24.4\n",
            "  Downloading numpy-1.24.4-cp311-cp311-manylinux_2_17_x86_64.manylinux2014_x86_64.whl.metadata (5.6 kB)\n",
            "Collecting pandas==2.0.3\n",
            "  Downloading pandas-2.0.3-cp311-cp311-manylinux_2_17_x86_64.manylinux2014_x86_64.whl.metadata (18 kB)\n",
            "Collecting scipy==1.10.1\n",
            "  Downloading scipy-1.10.1-cp311-cp311-manylinux_2_17_x86_64.manylinux2014_x86_64.whl.metadata (58 kB)\n",
            "\u001b[2K     \u001b[90m━━━━━━━━━━━━━━━━━━━━━━━━━━━━━━━━━━━━━━━━\u001b[0m \u001b[32m58.9/58.9 kB\u001b[0m \u001b[31m4.7 MB/s\u001b[0m eta \u001b[36m0:00:00\u001b[0m\n",
            "\u001b[?25hCollecting gensim==4.3.0\n",
            "  Downloading gensim-4.3.0-cp311-cp311-manylinux_2_17_x86_64.manylinux2014_x86_64.whl.metadata (8.4 kB)\n",
            "Collecting transformers==4.38.2\n",
            "  Downloading transformers-4.38.2-py3-none-any.whl.metadata (130 kB)\n",
            "\u001b[2K     \u001b[90m━━━━━━━━━━━━━━━━━━━━━━━━━━━━━━━━━━━━━━\u001b[0m \u001b[32m130.7/130.7 kB\u001b[0m \u001b[31m11.0 MB/s\u001b[0m eta \u001b[36m0:00:00\u001b[0m\n",
            "\u001b[?25hCollecting spacy==3.7.2\n",
            "  Downloading spacy-3.7.2-cp311-cp311-manylinux_2_17_x86_64.manylinux2014_x86_64.whl.metadata (25 kB)\n",
            "Collecting matplotlib==3.7.1\n",
            "  Downloading matplotlib-3.7.1-cp311-cp311-manylinux_2_17_x86_64.manylinux2014_x86_64.whl.metadata (5.6 kB)\n",
            "Requirement already satisfied: python-dateutil>=2.8.2 in /usr/local/lib/python3.11/dist-packages (from pandas==2.0.3) (2.9.0.post0)\n",
            "Requirement already satisfied: pytz>=2020.1 in /usr/local/lib/python3.11/dist-packages (from pandas==2.0.3) (2025.2)\n",
            "Requirement already satisfied: tzdata>=2022.1 in /usr/local/lib/python3.11/dist-packages (from pandas==2.0.3) (2025.2)\n",
            "Requirement already satisfied: smart-open>=1.8.1 in /usr/local/lib/python3.11/dist-packages (from gensim==4.3.0) (7.1.0)\n",
            "Collecting FuzzyTM>=0.4.0 (from gensim==4.3.0)\n",
            "  Downloading FuzzyTM-2.0.9-py3-none-any.whl.metadata (7.9 kB)\n",
            "Requirement already satisfied: filelock in /usr/local/lib/python3.11/dist-packages (from transformers==4.38.2) (3.18.0)\n",
            "Requirement already satisfied: huggingface-hub<1.0,>=0.19.3 in /usr/local/lib/python3.11/dist-packages (from transformers==4.38.2) (0.30.2)\n",
            "Requirement already satisfied: packaging>=20.0 in /usr/local/lib/python3.11/dist-packages (from transformers==4.38.2) (24.2)\n",
            "Requirement already satisfied: pyyaml>=5.1 in /usr/local/lib/python3.11/dist-packages (from transformers==4.38.2) (6.0.2)\n",
            "Requirement already satisfied: regex!=2019.12.17 in /usr/local/lib/python3.11/dist-packages (from transformers==4.38.2) (2024.11.6)\n",
            "Requirement already satisfied: requests in /usr/local/lib/python3.11/dist-packages (from transformers==4.38.2) (2.32.3)\n",
            "Collecting tokenizers<0.19,>=0.14 (from transformers==4.38.2)\n",
            "  Downloading tokenizers-0.15.2-cp311-cp311-manylinux_2_17_x86_64.manylinux2014_x86_64.whl.metadata (6.7 kB)\n",
            "Requirement already satisfied: safetensors>=0.4.1 in /usr/local/lib/python3.11/dist-packages (from transformers==4.38.2) (0.5.3)\n",
            "Requirement already satisfied: tqdm>=4.27 in /usr/local/lib/python3.11/dist-packages (from transformers==4.38.2) (4.67.1)\n",
            "Requirement already satisfied: spacy-legacy<3.1.0,>=3.0.11 in /usr/local/lib/python3.11/dist-packages (from spacy==3.7.2) (3.0.12)\n",
            "Requirement already satisfied: spacy-loggers<2.0.0,>=1.0.0 in /usr/local/lib/python3.11/dist-packages (from spacy==3.7.2) (1.0.5)\n",
            "Requirement already satisfied: murmurhash<1.1.0,>=0.28.0 in /usr/local/lib/python3.11/dist-packages (from spacy==3.7.2) (1.0.12)\n",
            "Requirement already satisfied: cymem<2.1.0,>=2.0.2 in /usr/local/lib/python3.11/dist-packages (from spacy==3.7.2) (2.0.11)\n",
            "Requirement already satisfied: preshed<3.1.0,>=3.0.2 in /usr/local/lib/python3.11/dist-packages (from spacy==3.7.2) (3.0.9)\n",
            "Collecting thinc<8.3.0,>=8.1.8 (from spacy==3.7.2)\n",
            "  Downloading thinc-8.2.5-cp311-cp311-manylinux_2_17_x86_64.manylinux2014_x86_64.whl.metadata (15 kB)\n",
            "Requirement already satisfied: wasabi<1.2.0,>=0.9.1 in /usr/local/lib/python3.11/dist-packages (from spacy==3.7.2) (1.1.3)\n",
            "Requirement already satisfied: srsly<3.0.0,>=2.4.3 in /usr/local/lib/python3.11/dist-packages (from spacy==3.7.2) (2.5.1)\n",
            "Requirement already satisfied: catalogue<2.1.0,>=2.0.6 in /usr/local/lib/python3.11/dist-packages (from spacy==3.7.2) (2.0.10)\n",
            "Collecting weasel<0.4.0,>=0.1.0 (from spacy==3.7.2)\n",
            "  Downloading weasel-0.3.4-py3-none-any.whl.metadata (4.7 kB)\n",
            "Collecting typer<0.10.0,>=0.3.0 (from spacy==3.7.2)\n",
            "  Downloading typer-0.9.4-py3-none-any.whl.metadata (14 kB)\n",
            "Collecting smart-open>=1.8.1 (from gensim==4.3.0)\n",
            "  Downloading smart_open-6.4.0-py3-none-any.whl.metadata (21 kB)\n",
            "Requirement already satisfied: pydantic!=1.8,!=1.8.1,<3.0.0,>=1.7.4 in /usr/local/lib/python3.11/dist-packages (from spacy==3.7.2) (2.11.4)\n",
            "Requirement already satisfied: jinja2 in /usr/local/lib/python3.11/dist-packages (from spacy==3.7.2) (3.1.6)\n",
            "Requirement already satisfied: setuptools in /usr/local/lib/python3.11/dist-packages (from spacy==3.7.2) (75.2.0)\n",
            "Requirement already satisfied: langcodes<4.0.0,>=3.2.0 in /usr/local/lib/python3.11/dist-packages (from spacy==3.7.2) (3.5.0)\n",
            "Requirement already satisfied: contourpy>=1.0.1 in /usr/local/lib/python3.11/dist-packages (from matplotlib==3.7.1) (1.3.2)\n",
            "Requirement already satisfied: cycler>=0.10 in /usr/local/lib/python3.11/dist-packages (from matplotlib==3.7.1) (0.12.1)\n",
            "Requirement already satisfied: fonttools>=4.22.0 in /usr/local/lib/python3.11/dist-packages (from matplotlib==3.7.1) (4.57.0)\n",
            "Requirement already satisfied: kiwisolver>=1.0.1 in /usr/local/lib/python3.11/dist-packages (from matplotlib==3.7.1) (1.4.8)\n",
            "Requirement already satisfied: pillow>=6.2.0 in /usr/local/lib/python3.11/dist-packages (from matplotlib==3.7.1) (11.2.1)\n",
            "Requirement already satisfied: pyparsing>=2.3.1 in /usr/local/lib/python3.11/dist-packages (from matplotlib==3.7.1) (3.2.3)\n",
            "Collecting pyfume (from FuzzyTM>=0.4.0->gensim==4.3.0)\n",
            "  Downloading pyFUME-0.3.4-py3-none-any.whl.metadata (9.7 kB)\n",
            "Requirement already satisfied: fsspec>=2023.5.0 in /usr/local/lib/python3.11/dist-packages (from huggingface-hub<1.0,>=0.19.3->transformers==4.38.2) (2025.3.2)\n",
            "Requirement already satisfied: typing-extensions>=3.7.4.3 in /usr/local/lib/python3.11/dist-packages (from huggingface-hub<1.0,>=0.19.3->transformers==4.38.2) (4.13.2)\n",
            "Requirement already satisfied: language-data>=1.2 in /usr/local/lib/python3.11/dist-packages (from langcodes<4.0.0,>=3.2.0->spacy==3.7.2) (1.3.0)\n",
            "Requirement already satisfied: annotated-types>=0.6.0 in /usr/local/lib/python3.11/dist-packages (from pydantic!=1.8,!=1.8.1,<3.0.0,>=1.7.4->spacy==3.7.2) (0.7.0)\n",
            "Requirement already satisfied: pydantic-core==2.33.2 in /usr/local/lib/python3.11/dist-packages (from pydantic!=1.8,!=1.8.1,<3.0.0,>=1.7.4->spacy==3.7.2) (2.33.2)\n",
            "Requirement already satisfied: typing-inspection>=0.4.0 in /usr/local/lib/python3.11/dist-packages (from pydantic!=1.8,!=1.8.1,<3.0.0,>=1.7.4->spacy==3.7.2) (0.4.0)\n",
            "Requirement already satisfied: six>=1.5 in /usr/local/lib/python3.11/dist-packages (from python-dateutil>=2.8.2->pandas==2.0.3) (1.17.0)\n",
            "Requirement already satisfied: charset-normalizer<4,>=2 in /usr/local/lib/python3.11/dist-packages (from requests->transformers==4.38.2) (3.4.1)\n",
            "Requirement already satisfied: idna<4,>=2.5 in /usr/local/lib/python3.11/dist-packages (from requests->transformers==4.38.2) (3.10)\n",
            "Requirement already satisfied: urllib3<3,>=1.21.1 in /usr/local/lib/python3.11/dist-packages (from requests->transformers==4.38.2) (2.4.0)\n",
            "Requirement already satisfied: certifi>=2017.4.17 in /usr/local/lib/python3.11/dist-packages (from requests->transformers==4.38.2) (2025.4.26)\n",
            "Collecting blis<0.8.0,>=0.7.8 (from thinc<8.3.0,>=8.1.8->spacy==3.7.2)\n",
            "  Downloading blis-0.7.11-cp311-cp311-manylinux_2_17_x86_64.manylinux2014_x86_64.whl.metadata (7.4 kB)\n",
            "Requirement already satisfied: confection<1.0.0,>=0.0.1 in /usr/local/lib/python3.11/dist-packages (from thinc<8.3.0,>=8.1.8->spacy==3.7.2) (0.1.5)\n",
            "Requirement already satisfied: click<9.0.0,>=7.1.1 in /usr/local/lib/python3.11/dist-packages (from typer<0.10.0,>=0.3.0->spacy==3.7.2) (8.1.8)\n",
            "Collecting cloudpathlib<0.17.0,>=0.7.0 (from weasel<0.4.0,>=0.1.0->spacy==3.7.2)\n",
            "  Downloading cloudpathlib-0.16.0-py3-none-any.whl.metadata (14 kB)\n",
            "Requirement already satisfied: MarkupSafe>=2.0 in /usr/local/lib/python3.11/dist-packages (from jinja2->spacy==3.7.2) (3.0.2)\n",
            "Requirement already satisfied: marisa-trie>=1.1.0 in /usr/local/lib/python3.11/dist-packages (from language-data>=1.2->langcodes<4.0.0,>=3.2.0->spacy==3.7.2) (1.2.1)\n",
            "Collecting simpful==2.12.0 (from pyfume->FuzzyTM>=0.4.0->gensim==4.3.0)\n",
            "  Downloading simpful-2.12.0-py3-none-any.whl.metadata (4.8 kB)\n",
            "Collecting fst-pso==1.8.1 (from pyfume->FuzzyTM>=0.4.0->gensim==4.3.0)\n",
            "  Downloading fst-pso-1.8.1.tar.gz (18 kB)\n",
            "  Preparing metadata (setup.py) ... \u001b[?25l\u001b[?25hdone\n",
            "INFO: pip is looking at multiple versions of pyfume to determine which version is compatible with other requirements. This could take a while.\n",
            "Collecting pyfume (from FuzzyTM>=0.4.0->gensim==4.3.0)\n",
            "  Downloading pyFUME-0.3.1-py3-none-any.whl.metadata (9.7 kB)\n",
            "Collecting miniful (from fst-pso==1.8.1->pyfume->FuzzyTM>=0.4.0->gensim==4.3.0)\n",
            "  Downloading miniful-0.0.6.tar.gz (2.8 kB)\n",
            "  Preparing metadata (setup.py) ... \u001b[?25l\u001b[?25hdone\n",
            "Downloading numpy-1.24.4-cp311-cp311-manylinux_2_17_x86_64.manylinux2014_x86_64.whl (17.3 MB)\n",
            "\u001b[2K   \u001b[90m━━━━━━━━━━━━━━━━━━━━━━━━━━━━━━━━━━━━━━━━\u001b[0m \u001b[32m17.3/17.3 MB\u001b[0m \u001b[31m110.1 MB/s\u001b[0m eta \u001b[36m0:00:00\u001b[0m\n",
            "\u001b[?25hDownloading pandas-2.0.3-cp311-cp311-manylinux_2_17_x86_64.manylinux2014_x86_64.whl (12.2 MB)\n",
            "\u001b[2K   \u001b[90m━━━━━━━━━━━━━━━━━━━━━━━━━━━━━━━━━━━━━━━━\u001b[0m \u001b[32m12.2/12.2 MB\u001b[0m \u001b[31m127.6 MB/s\u001b[0m eta \u001b[36m0:00:00\u001b[0m\n",
            "\u001b[?25hDownloading scipy-1.10.1-cp311-cp311-manylinux_2_17_x86_64.manylinux2014_x86_64.whl (34.1 MB)\n",
            "\u001b[2K   \u001b[90m━━━━━━━━━━━━━━━━━━━━━━━━━━━━━━━━━━━━━━━━\u001b[0m \u001b[32m34.1/34.1 MB\u001b[0m \u001b[31m67.2 MB/s\u001b[0m eta \u001b[36m0:00:00\u001b[0m\n",
            "\u001b[?25hDownloading gensim-4.3.0-cp311-cp311-manylinux_2_17_x86_64.manylinux2014_x86_64.whl (24.1 MB)\n",
            "\u001b[2K   \u001b[90m━━━━━━━━━━━━━━━━━━━━━━━━━━━━━━━━━━━━━━━━\u001b[0m \u001b[32m24.1/24.1 MB\u001b[0m \u001b[31m35.4 MB/s\u001b[0m eta \u001b[36m0:00:00\u001b[0m\n",
            "\u001b[?25hDownloading transformers-4.38.2-py3-none-any.whl (8.5 MB)\n",
            "\u001b[2K   \u001b[90m━━━━━━━━━━━━━━━━━━━━━━━━━━━━━━━━━━━━━━━━\u001b[0m \u001b[32m8.5/8.5 MB\u001b[0m \u001b[31m130.2 MB/s\u001b[0m eta \u001b[36m0:00:00\u001b[0m\n",
            "\u001b[?25hDownloading spacy-3.7.2-cp311-cp311-manylinux_2_17_x86_64.manylinux2014_x86_64.whl (6.6 MB)\n",
            "\u001b[2K   \u001b[90m━━━━━━━━━━━━━━━━━━━━━━━━━━━━━━━━━━━━━━━━\u001b[0m \u001b[32m6.6/6.6 MB\u001b[0m \u001b[31m118.9 MB/s\u001b[0m eta \u001b[36m0:00:00\u001b[0m\n",
            "\u001b[?25hDownloading matplotlib-3.7.1-cp311-cp311-manylinux_2_17_x86_64.manylinux2014_x86_64.whl (11.6 MB)\n",
            "\u001b[2K   \u001b[90m━━━━━━━━━━━━━━━━━━━━━━━━━━━━━━━━━━━━━━━━\u001b[0m \u001b[32m11.6/11.6 MB\u001b[0m \u001b[31m134.2 MB/s\u001b[0m eta \u001b[36m0:00:00\u001b[0m\n",
            "\u001b[?25hDownloading FuzzyTM-2.0.9-py3-none-any.whl (31 kB)\n",
            "Downloading smart_open-6.4.0-py3-none-any.whl (57 kB)\n",
            "\u001b[2K   \u001b[90m━━━━━━━━━━━━━━━━━━━━━━━━━━━━━━━━━━━━━━━━\u001b[0m \u001b[32m57.0/57.0 kB\u001b[0m \u001b[31m5.0 MB/s\u001b[0m eta \u001b[36m0:00:00\u001b[0m\n",
            "\u001b[?25hDownloading thinc-8.2.5-cp311-cp311-manylinux_2_17_x86_64.manylinux2014_x86_64.whl (920 kB)\n",
            "\u001b[2K   \u001b[90m━━━━━━━━━━━━━━━━━━━━━━━━━━━━━━━━━━━━━━━━\u001b[0m \u001b[32m920.2/920.2 kB\u001b[0m \u001b[31m58.0 MB/s\u001b[0m eta \u001b[36m0:00:00\u001b[0m\n",
            "\u001b[?25hDownloading tokenizers-0.15.2-cp311-cp311-manylinux_2_17_x86_64.manylinux2014_x86_64.whl (3.6 MB)\n",
            "\u001b[2K   \u001b[90m━━━━━━━━━━━━━━━━━━━━━━━━━━━━━━━━━━━━━━━━\u001b[0m \u001b[32m3.6/3.6 MB\u001b[0m \u001b[31m115.1 MB/s\u001b[0m eta \u001b[36m0:00:00\u001b[0m\n",
            "\u001b[?25hDownloading typer-0.9.4-py3-none-any.whl (45 kB)\n",
            "\u001b[2K   \u001b[90m━━━━━━━━━━━━━━━━━━━━━━━━━━━━━━━━━━━━━━━━\u001b[0m \u001b[32m46.0/46.0 kB\u001b[0m \u001b[31m3.8 MB/s\u001b[0m eta \u001b[36m0:00:00\u001b[0m\n",
            "\u001b[?25hDownloading weasel-0.3.4-py3-none-any.whl (50 kB)\n",
            "\u001b[2K   \u001b[90m━━━━━━━━━━━━━━━━━━━━━━━━━━━━━━━━━━━━━━━━\u001b[0m \u001b[32m50.1/50.1 kB\u001b[0m \u001b[31m4.4 MB/s\u001b[0m eta \u001b[36m0:00:00\u001b[0m\n",
            "\u001b[?25hDownloading blis-0.7.11-cp311-cp311-manylinux_2_17_x86_64.manylinux2014_x86_64.whl (10.2 MB)\n",
            "\u001b[2K   \u001b[90m━━━━━━━━━━━━━━━━━━━━━━━━━━━━━━━━━━━━━━━━\u001b[0m \u001b[32m10.2/10.2 MB\u001b[0m \u001b[31m133.5 MB/s\u001b[0m eta \u001b[36m0:00:00\u001b[0m\n",
            "\u001b[?25hDownloading cloudpathlib-0.16.0-py3-none-any.whl (45 kB)\n",
            "\u001b[2K   \u001b[90m━━━━━━━━━━━━━━━━━━━━━━━━━━━━━━━━━━━━━━━━\u001b[0m \u001b[32m45.0/45.0 kB\u001b[0m \u001b[31m3.8 MB/s\u001b[0m eta \u001b[36m0:00:00\u001b[0m\n",
            "\u001b[?25hDownloading pyFUME-0.3.1-py3-none-any.whl (59 kB)\n",
            "\u001b[2K   \u001b[90m━━━━━━━━━━━━━━━━━━━━━━━━━━━━━━━━━━━━━━━━\u001b[0m \u001b[32m59.6/59.6 kB\u001b[0m \u001b[31m5.2 MB/s\u001b[0m eta \u001b[36m0:00:00\u001b[0m\n",
            "\u001b[?25hDownloading simpful-2.12.0-py3-none-any.whl (24 kB)\n",
            "Building wheels for collected packages: fst-pso, miniful\n",
            "  Building wheel for fst-pso (setup.py) ... \u001b[?25l\u001b[?25hdone\n",
            "  Created wheel for fst-pso: filename=fst_pso-1.8.1-py3-none-any.whl size=20431 sha256=38877cef2f3c7744d66343bd0cdc8cece15607603f83a11cb1a252007514c212\n",
            "  Stored in directory: /root/.cache/pip/wheels/69/f5/e5/18ad53fe1ed6b2af9fad05ec052e4acbac8e92441df44bad2e\n",
            "  Building wheel for miniful (setup.py) ... \u001b[?25l\u001b[?25hdone\n",
            "  Created wheel for miniful: filename=miniful-0.0.6-py3-none-any.whl size=3506 sha256=d98fd373c47a3ea0d4883285d34ac4710577d137fb1c63cad6070a2e90d4b10f\n",
            "  Stored in directory: /root/.cache/pip/wheels/9d/ff/2f/afe4cd56f47de147407705626517d68bea0f3b74eb1fb168e6\n",
            "Successfully built fst-pso miniful\n",
            "Installing collected packages: typer, smart-open, numpy, cloudpathlib, scipy, pandas, blis, tokenizers, simpful, miniful, matplotlib, weasel, transformers, thinc, fst-pso, spacy, pyfume, FuzzyTM, gensim\n",
            "  Attempting uninstall: typer\n",
            "    Found existing installation: typer 0.15.3\n",
            "    Uninstalling typer-0.15.3:\n",
            "      Successfully uninstalled typer-0.15.3\n",
            "  Attempting uninstall: smart-open\n",
            "    Found existing installation: smart-open 7.1.0\n",
            "    Uninstalling smart-open-7.1.0:\n",
            "      Successfully uninstalled smart-open-7.1.0\n",
            "  Attempting uninstall: cloudpathlib\n",
            "    Found existing installation: cloudpathlib 0.21.0\n",
            "    Uninstalling cloudpathlib-0.21.0:\n",
            "      Successfully uninstalled cloudpathlib-0.21.0\n",
            "  Attempting uninstall: blis\n",
            "    Found existing installation: blis 1.3.0\n",
            "    Uninstalling blis-1.3.0:\n",
            "      Successfully uninstalled blis-1.3.0\n",
            "  Attempting uninstall: tokenizers\n",
            "    Found existing installation: tokenizers 0.21.1\n",
            "    Uninstalling tokenizers-0.21.1:\n",
            "      Successfully uninstalled tokenizers-0.21.1\n",
            "  Attempting uninstall: weasel\n",
            "    Found existing installation: weasel 0.4.1\n",
            "    Uninstalling weasel-0.4.1:\n",
            "      Successfully uninstalled weasel-0.4.1\n",
            "\u001b[31mERROR: pip's dependency resolver does not currently take into account all the packages that are installed. This behaviour is the source of the following dependency conflicts.\n",
            "google-colab 1.0.0 requires pandas==2.2.2, but you have pandas 2.0.3 which is incompatible.\n",
            "sentence-transformers 3.4.1 requires transformers<5.0.0,>=4.41.0, but you have transformers 4.38.2 which is incompatible.\n",
            "cvxpy 1.6.5 requires scipy>=1.11.0, but you have scipy 1.10.1 which is incompatible.\n",
            "jax 0.5.2 requires numpy>=1.25, but you have numpy 1.24.4 which is incompatible.\n",
            "jax 0.5.2 requires scipy>=1.11.1, but you have scipy 1.10.1 which is incompatible.\n",
            "xarray 2025.3.1 requires pandas>=2.1, but you have pandas 2.0.3 which is incompatible.\n",
            "treescope 0.1.9 requires numpy>=1.25.2, but you have numpy 1.24.4 which is incompatible.\n",
            "blosc2 3.3.2 requires numpy>=1.26, but you have numpy 1.24.4 which is incompatible.\n",
            "pymc 5.22.0 requires numpy>=1.25.0, but you have numpy 1.24.4 which is incompatible.\n",
            "plotnine 0.14.5 requires matplotlib>=3.8.0, but you have matplotlib 3.7.1 which is incompatible.\n",
            "plotnine 0.14.5 requires pandas>=2.2.0, but you have pandas 2.0.3 which is incompatible.\n",
            "mizani 0.13.3 requires pandas>=2.2.0, but you have pandas 2.0.3 which is incompatible.\n",
            "tensorflow 2.18.0 requires numpy<2.1.0,>=1.26.0, but you have numpy 1.24.4 which is incompatible.\n",
            "jaxlib 0.5.1 requires numpy>=1.25, but you have numpy 1.24.4 which is incompatible.\n",
            "jaxlib 0.5.1 requires scipy>=1.11.1, but you have scipy 1.10.1 which is incompatible.\n",
            "scikit-image 0.25.2 requires scipy>=1.11.4, but you have scipy 1.10.1 which is incompatible.\u001b[0m\u001b[31m\n",
            "\u001b[0mSuccessfully installed FuzzyTM-2.0.9 blis-0.7.11 cloudpathlib-0.16.0 fst-pso-1.8.1 gensim-4.3.0 matplotlib-3.7.1 miniful-0.0.6 numpy-1.24.4 pandas-2.0.3 pyfume-0.3.1 scipy-1.10.1 simpful-2.12.0 smart-open-6.4.0 spacy-3.7.2 thinc-8.2.5 tokenizers-0.15.2 transformers-4.38.2 typer-0.9.4 weasel-0.3.4\n"
          ]
        },
        {
          "output_type": "display_data",
          "data": {
            "application/vnd.colab-display-data+json": {
              "pip_warning": {
                "packages": [
                  "matplotlib",
                  "mpl_toolkits",
                  "numpy"
                ]
              },
              "id": "4c05db614c384d0386d4e1442d259218"
            }
          },
          "metadata": {}
        }
      ]
    },
    {
      "cell_type": "markdown",
      "source": [
        "## Import required libraries"
      ],
      "metadata": {
        "id": "eqmwP9O_syuq"
      },
      "id": "eqmwP9O_syuq"
    },
    {
      "cell_type": "code",
      "execution_count": null,
      "id": "4e35b23b-2b1f-49f0-b77a-67f6023fed73",
      "metadata": {
        "id": "4e35b23b-2b1f-49f0-b77a-67f6023fed73"
      },
      "outputs": [],
      "source": [
        "# library imports\n",
        "import numpy as np\n",
        "import pandas as pd\n",
        "import matplotlib.pyplot as plt\n",
        "import spacy\n",
        "import torch\n",
        "import re\n",
        "from tqdm import tqdm\n",
        "from sklearn.feature_extraction.text import CountVectorizer\n",
        "from sklearn.feature_extraction.text import TfidfVectorizer\n",
        "import gensim\n",
        "from gensim.models import Word2Vec\n",
        "from sklearn.model_selection import train_test_split, KFold\n",
        "from sklearn.ensemble import RandomForestClassifier\n",
        "from sklearn.neighbors import KNeighborsClassifier\n",
        "from sklearn.tree import DecisionTreeClassifier\n",
        "from sklearn.svm import SVC\n",
        "from sklearn.naive_bayes import GaussianNB\n",
        "from sklearn.preprocessing import LabelEncoder\n",
        "from sklearn.metrics import accuracy_score, confusion_matrix, classification_report\n",
        "from scipy.sparse import hstack\n",
        "from sklearn.metrics.pairwise import cosine_similarity\n",
        "import torch.nn.functional as F\n",
        "from transformers import DistilBertTokenizer, DistilBertForSequenceClassification,\\\n",
        "     LongformerTokenizer, LongformerForSequenceClassification, get_scheduler\n",
        "from torch.optim import AdamW\n",
        "from torch.utils.data import DataLoader, TensorDataset, RandomSampler, SequentialSampler"
      ]
    },
    {
      "cell_type": "markdown",
      "source": [
        "## Load the dataset and shuffle the data in it"
      ],
      "metadata": {
        "id": "B-vv_mIAtEAj"
      },
      "id": "B-vv_mIAtEAj"
    },
    {
      "cell_type": "markdown",
      "source": [
        "The dataset which is on my github has the three classes (Good Fit, Potential Fit, No Fit) grouped together. This will lead to class imbalance in the training data which leads to poor predictive results. To handle this, shuffling has been done using the `.sample()` pandas method for better generalization."
      ],
      "metadata": {
        "id": "cLp8G2A3tjf3"
      },
      "id": "cLp8G2A3tjf3"
    },
    {
      "cell_type": "code",
      "execution_count": null,
      "id": "2251e2f7-6000-47bd-b2eb-199d6418b3d8",
      "metadata": {
        "id": "2251e2f7-6000-47bd-b2eb-199d6418b3d8"
      },
      "outputs": [],
      "source": [
        "resume_match_df = pd.read_csv(\"https://raw.githubusercontent.com/samariwa/artificial-intelligence-projects/refs/heads/main/AI%20Assessment/data.csv\").sample(frac=1)"
      ]
    },
    {
      "cell_type": "markdown",
      "source": [
        "`.sample(frac=1)` shuffles all rows. Smart move for avoiding overfitting to label ordering."
      ],
      "metadata": {
        "id": "qfPA7geOtRUf"
      },
      "id": "qfPA7geOtRUf"
    },
    {
      "cell_type": "markdown",
      "source": [
        "## Tokenization of text"
      ],
      "metadata": {
        "id": "dW5mL77fu8l3"
      },
      "id": "dW5mL77fu8l3"
    },
    {
      "cell_type": "markdown",
      "source": [
        "Initialize SpaCy's English model that can be used to convert the resume and job description text into tokens that can be used to perform classification using various techniques. This involves making all characters lowercase, lemmatizing the text and removing stop words (which are of no significance in the classification)."
      ],
      "metadata": {
        "id": "ZfxJgfzbvITN"
      },
      "id": "ZfxJgfzbvITN"
    },
    {
      "cell_type": "code",
      "execution_count": null,
      "id": "48c28eb7-ea59-4a08-902f-f8066217c974",
      "metadata": {
        "id": "48c28eb7-ea59-4a08-902f-f8066217c974",
        "colab": {
          "base_uri": "https://localhost:8080/"
        },
        "outputId": "2bc1bcc7-a679-47fc-f016-fa9c3a398b09"
      },
      "outputs": [
        {
          "output_type": "stream",
          "name": "stderr",
          "text": [
            "/usr/local/lib/python3.11/dist-packages/spacy/util.py:910: UserWarning: [W095] Model 'en_core_web_sm' (3.8.0) was trained with spaCy v3.8.0 and may not be 100% compatible with the current version (3.7.2). If you see errors or degraded performance, download a newer compatible model or retrain your custom model with the current spaCy version. For more details and available updates, run: python -m spacy validate\n",
            "  warnings.warn(warn_msg)\n"
          ]
        }
      ],
      "source": [
        "nlp = spacy.load(\"en_core_web_sm\")"
      ]
    },
    {
      "cell_type": "code",
      "execution_count": null,
      "id": "24425f2a-932a-4d83-a002-60e271eda3bf",
      "metadata": {
        "id": "24425f2a-932a-4d83-a002-60e271eda3bf"
      },
      "outputs": [],
      "source": [
        "def tokenize_text(text):\n",
        "    \"\"\"\n",
        "    tokenize_text(text)\n",
        "    This function will tokenize the texts from the resumes and job descriptions\n",
        "    This will be first preprocessed by removing stop words that add no semantic value\n",
        "    and lemmatized for a standardized set of words\n",
        "    text(string): the text to be tokenized\n",
        "    returns: list of tokens generated from the text passed in as an arg\n",
        "    \"\"\"\n",
        "    doc = nlp(text.lower())\n",
        "    return [token.lemma_ for token in doc if token.is_alpha and not token.is_stop]"
      ]
    },
    {
      "cell_type": "markdown",
      "source": [
        "### Perform the tokenization for each resume and each job description and store the list of tokens in their respective lists"
      ],
      "metadata": {
        "id": "6va5L4Ahwaay"
      },
      "id": "6va5L4Ahwaay"
    },
    {
      "cell_type": "markdown",
      "source": [
        "Prepare two separate lists: one for resumes, one for job descriptions, each as lists of tokens."
      ],
      "metadata": {
        "id": "xFFhidBIt5up"
      },
      "id": "xFFhidBIt5up"
    },
    {
      "cell_type": "code",
      "execution_count": null,
      "id": "c4ea01f4-6c24-4416-8a30-38cbf8ecafb7",
      "metadata": {
        "id": "c4ea01f4-6c24-4416-8a30-38cbf8ecafb7",
        "colab": {
          "base_uri": "https://localhost:8080/"
        },
        "outputId": "90389060-0d04-4045-d71f-f1a50b5c8931"
      },
      "outputs": [
        {
          "output_type": "stream",
          "name": "stderr",
          "text": [
            "100%|██████████| 8000/8000 [22:05<00:00,  6.04it/s]\n"
          ]
        }
      ],
      "source": [
        "# initialize string that will contain tokens for each resume and job description\n",
        "preprocessed_resume_text = []\n",
        "preprocessed_jd_text = []\n",
        "for i in tqdm(range(len(resume_match_df))):\n",
        "    preprocessed_resume_text.append(tokenize_text(resume_match_df.iloc[i]['resume_text']))\n",
        "    preprocessed_jd_text.append(tokenize_text(resume_match_df.iloc[i]['job_description_text']))"
      ]
    },
    {
      "cell_type": "markdown",
      "source": [
        "### Rejoin tokens and prepare corpus"
      ],
      "metadata": {
        "id": "tAd7aUNcu_jH"
      },
      "id": "tAd7aUNcu_jH"
    },
    {
      "cell_type": "markdown",
      "source": [
        "For each resume and JD (job desription, rejoin the tokens into strings using the space \" \" delimiter.\n",
        "\n",
        "Join the sets of words, resume_text and jd_text into one pool of words which woll be processed by the various vectorizers accordingly."
      ],
      "metadata": {
        "id": "zMLAua0-xFu8"
      },
      "id": "zMLAua0-xFu8"
    },
    {
      "cell_type": "code",
      "execution_count": null,
      "id": "be146ea2-54ca-490f-923f-c9130fe33f9c",
      "metadata": {
        "id": "be146ea2-54ca-490f-923f-c9130fe33f9c",
        "colab": {
          "base_uri": "https://localhost:8080/"
        },
        "outputId": "a17245ef-3f24-4738-8e82-fa2cfa59e4cb"
      },
      "outputs": [
        {
          "output_type": "stream",
          "name": "stderr",
          "text": [
            "100%|██████████| 8000/8000 [00:00<00:00, 54685.96it/s]\n",
            "100%|██████████| 8000/8000 [00:00<00:00, 108353.35it/s]\n"
          ]
        }
      ],
      "source": [
        "# convert the tokens in each list back to strings\n",
        "resume_texts = [\" \".join(tokens) for tokens in tqdm(preprocessed_resume_text)]\n",
        "jd_texts = [\" \".join(tokens) for tokens in tqdm(preprocessed_jd_text)]\n",
        "'''\n",
        "combine the resume and job description texts before count vectorizing\n",
        "In each row we represent the tokens as values counts for the number of\n",
        "times they appear in the document\n",
        "'''\n",
        "\n",
        "corpus = resume_texts + jd_texts"
      ]
    },
    {
      "cell_type": "markdown",
      "id": "5c54a788-16c3-4d59-803c-7588163a9158",
      "metadata": {
        "id": "5c54a788-16c3-4d59-803c-7588163a9158"
      },
      "source": [
        "## Vectorization using the Bag of Words Vectorizer\n",
        "\n",
        "1.   Initialize the BoW count vectorizer\n",
        "2.   Transform the words into vectors which are represented by the number of times they appear in a sentence (the joined tokens)\n",
        "3. Reseparate the resume and jd text and put them side-by-side (a resume with is correpsonding JD in one row). This will act as the features and the outcomes of the selection process as the labels.\n",
        "\n"
      ]
    },
    {
      "cell_type": "code",
      "execution_count": null,
      "id": "26a68836-6e3d-437a-a723-fe3ad8b256b2",
      "metadata": {
        "id": "26a68836-6e3d-437a-a723-fe3ad8b256b2"
      },
      "outputs": [],
      "source": [
        "# initialize bag of words vectorizer\n",
        "vectorizer = CountVectorizer()\n",
        "# transform the corpus (resume + jd text) into vectors\n",
        "bow_matrix = vectorizer.fit_transform(corpus)\n",
        "# separate the resume and jd text and set them side-by-side\n",
        "resume_bow = bow_matrix[:len(resume_texts)].toarray()\n",
        "jd_bow = bow_matrix[len(resume_texts):].toarray()"
      ]
    },
    {
      "cell_type": "code",
      "execution_count": null,
      "id": "66e198cf-6bfd-4433-939a-f0756449b063",
      "metadata": {
        "id": "66e198cf-6bfd-4433-939a-f0756449b063"
      },
      "outputs": [],
      "source": [
        "# we horizontally stack JDs and resumes so that we have numeric representations od words for JDs and corresponding resume\n",
        "X = np.hstack((resume_bow, jd_bow))\n",
        "# this representation created above will be set against the job-match decision\n",
        "y = resume_match_df['label'].values"
      ]
    },
    {
      "cell_type": "markdown",
      "id": "1ba4f239-a5fa-4e56-a16d-eb36ddcd3eb8",
      "metadata": {
        "id": "1ba4f239-a5fa-4e56-a16d-eb36ddcd3eb8"
      },
      "source": [
        "### K-Fold cross-validation Model Evaluation (BoW)"
      ]
    },
    {
      "cell_type": "markdown",
      "source": [
        "First it is necessary to establish which algorithm performs well for this problem. This can iteratively be done through cross-validation using several algorithms and this can be helpful is establishing how well generalized our data is."
      ],
      "metadata": {
        "id": "LSnri9pJ1VKF"
      },
      "id": "LSnri9pJ1VKF"
    },
    {
      "cell_type": "code",
      "execution_count": null,
      "id": "39b69922-fda7-46ef-ad9c-2beb3bfb5905",
      "metadata": {
        "id": "39b69922-fda7-46ef-ad9c-2beb3bfb5905"
      },
      "outputs": [],
      "source": [
        "def classify_k_fold_x_validation(model, x_data, y_data, folds):\n",
        "    \"\"\"\n",
        "    classify_k_fold_x_validation(model, x_data, y_data, folds)\n",
        "    This function performs k-fold cross validation by running trainings and testing on\n",
        "    different segments of the dataset. The number of segments id defined as an argument\n",
        "    model: The model being used for cross-validation\n",
        "    x_data: the set of features in the data\n",
        "    y_data: the labels of the data\n",
        "    folds: The value of k representing the number of divisions of the data to be done for cross-validation\n",
        "    \"\"\"\n",
        "    # list to store accuracy for each model\n",
        "    accuracy_scores = []\n",
        "    classifier = model()\n",
        "    k_fold = KFold(n_splits=folds, shuffle=False)\n",
        "    # For each fold(split) run classification and get the accuracy metric\n",
        "    for train_idx, test_idx in k_fold.split(x_data):\n",
        "        X_train, X_test, y_train, y_test = x_data[train_idx], x_data[test_idx], y_data[train_idx], y_data[test_idx]\n",
        "        classifier.fit(X_train, y_train)\n",
        "        accuracy_scores.append(classifier.score(X_test, y_test))\n",
        "\n",
        "    return accuracy_scores"
      ]
    },
    {
      "cell_type": "code",
      "execution_count": null,
      "id": "4a4c5c30-d453-433b-bf66-4a38c2bf9c09",
      "metadata": {
        "id": "4a4c5c30-d453-433b-bf66-4a38c2bf9c09"
      },
      "outputs": [],
      "source": [
        "def model_validation(x_data, y_data, folds=10):\n",
        "    \"\"\"\n",
        "    model_validation(x_data, y_data, folds=10)\n",
        "    Validates performance of various models\n",
        "    It passes each algorithm specified in the `models` list\n",
        "    to the classify_k_fold_x_validation(model, x_data, y_data, folds)\n",
        "    function together with feature and labels and the number of folds\n",
        "    expected.\n",
        "    \"\"\"\n",
        "    models = {'K-Nearest Neighbors': 'KNeighborsClassifier',\n",
        "              'Decision Tree': 'DecisionTreeClassifier',\n",
        "              'Random Forest': 'RandomForestClassifier',\n",
        "              'Support Vector Classifier': 'SVC',\n",
        "              'Gaussian Naive Bayes': 'GaussianNB'}\n",
        "    model_performance = {}\n",
        "    # For each model run cross-validation\n",
        "    for model_name, model_function in tqdm(models.items()):\n",
        "        accuracies = classify_k_fold_x_validation(eval(model_function), x_data, y_data, folds)\n",
        "        model_performance[model_name] = accuracies\n",
        "    plt.figure(figsize=(12, 6))\n",
        "    # Visualize each model's accuracy in a box and whisker plot\n",
        "    plt.boxplot(list(model_performance.values()), labels=list(model_performance.keys()))\n",
        "    plt.title('Classification Performance Comparison with K-Fold Cross Validation')\n",
        "    plt.xlabel('Classifier Model')\n",
        "    plt.ylabel('Accuracy Scores')\n",
        "    plt.show()"
      ]
    },
    {
      "cell_type": "code",
      "execution_count": null,
      "id": "45ebd99f-9f9b-4d60-bf18-f20f74229760",
      "metadata": {
        "id": "45ebd99f-9f9b-4d60-bf18-f20f74229760",
        "colab": {
          "base_uri": "https://localhost:8080/",
          "height": 581
        },
        "outputId": "f6a258d7-ab38-4ef8-b8b6-6a3d72a68496"
      },
      "outputs": [
        {
          "output_type": "stream",
          "name": "stderr",
          "text": [
            "100%|██████████| 5/5 [3:35:12<00:00, 2582.47s/it]\n"
          ]
        },
        {
          "output_type": "display_data",
          "data": {
            "text/plain": [
              "<Figure size 1200x600 with 1 Axes>"
            ],
            "image/png": "[encoded data removed]"
          },
          "metadata": {}
        }
      ],
      "source": [
        "# Get the performance of the various algorithms using 10 folds\n",
        "model_validation(X, y, folds=10)"
      ]
    },
    {
      "cell_type": "markdown",
      "source": [
        "As an ensemble algorithm, `Random Forest Classifier` (combination of several decision trees) took the longest time to run during validation but was able to achieve the best results. The box and whisker plot shows a lower variance in the results of the algorithm which was the highest with a median of around 69%. It is the model to be used in this Bag of Words technique and will be optimized using hyperparameter tuning for the best results."
      ],
      "metadata": {
        "id": "POKY3jT34YXv"
      },
      "id": "POKY3jT34YXv"
    },
    {
      "cell_type": "markdown",
      "source": [
        "### Algorithm optimization and classification of the data (BoW)"
      ],
      "metadata": {
        "id": "wm2XrGdxvZ_k"
      },
      "id": "wm2XrGdxvZ_k"
    },
    {
      "cell_type": "code",
      "execution_count": null,
      "id": "2292a75a-38a6-4539-839e-055ac1ac748c",
      "metadata": {
        "id": "2292a75a-38a6-4539-839e-055ac1ac748c",
        "colab": {
          "base_uri": "https://localhost:8080/"
        },
        "outputId": "0d83e25c-735e-48e3-db3e-b37ddf88252b"
      },
      "outputs": [
        {
          "output_type": "stream",
          "name": "stdout",
          "text": [
            "Model Accuracy: 0.69\n"
          ]
        }
      ],
      "source": [
        "# Split the data into training and testing data\n",
        "X_train, X_test, y_train, y_test = train_test_split(X, y, test_size=0.2, random_state=42)\n",
        "\n",
        "# Train the best classifier\n",
        "clf = RandomForestClassifier(n_estimators=100, random_state=42)\n",
        "clf.fit(X_train, y_train)\n",
        "\n",
        "# Predictions\n",
        "y_pred = clf.predict(X_test)\n",
        "\n",
        "# Evaluate accuracy\n",
        "accuracy = accuracy_score(y_test, y_pred)\n",
        "print(f\"Model Accuracy: {accuracy:.2f}\")\n",
        "\n",
        "# Evaluate the confusion matrix\n",
        "conf_matrix = confusion_matrix(y_test, y_pred)\n",
        "print(f\"Confusion Matrix: {conf_matrix}\")\n",
        "\n",
        "# Evaluate the classification report\n",
        "class_report = classification_report(y_test, y_pred)\n",
        "print(f\"Classification Report: {class_report}\")"
      ]
    },
    {
      "cell_type": "markdown",
      "source": [
        "## Results"
      ],
      "metadata": {
        "id": "mYBpOCKb0qJu"
      },
      "id": "mYBpOCKb0qJu"
    },
    {
      "cell_type": "markdown",
      "source": [
        "Based on the results, the algorithm got an accuracy of `` which is not so good. It classifies the resumes and JDs on the basis if word count which has some level of relationship with the labels but does lack further explainability.\n",
        "\n",
        "However, the bag of words technique lacks semantic meaning of the words for purpose of evaluating their importance and relationships with each other. For this reason, the tokens generated lack contextual meaning and therefore is not a reliable technique for resume-jobs matching.\n",
        "\n",
        "I will use a different vectorizer that works differently for comparison purposes."
      ],
      "metadata": {
        "id": "qPb0VxN_76dU"
      },
      "id": "qPb0VxN_76dU"
    },
    {
      "cell_type": "markdown",
      "source": [
        "## Vectorization using TF-IDF"
      ],
      "metadata": {
        "id": "oQsuDNFVNwyY"
      },
      "id": "oQsuDNFVNwyY"
    },
    {
      "cell_type": "markdown",
      "source": [
        "1. Initialize the TF-IDF vectorizer  \n",
        "2. Separately convert the resume and JD text into TF-IDF representations  \n",
        "3. Horizontally stack them as features  "
      ],
      "metadata": {
        "id": "M0bGt7_e3hAo"
      },
      "id": "M0bGt7_e3hAo"
    },
    {
      "cell_type": "code",
      "source": [
        "# initialize TF-IDF vectorizer\n",
        "tfidf_vectorizer = TfidfVectorizer()\n",
        "# Vectorize each document (joined tokens) in resume and JD separately\n",
        "resume_tfidf = tfidf_vectorizer.fit_transform(resume_texts)\n",
        "jd_tfidf = tfidf_vectorizer.fit_transform(jd_texts)"
      ],
      "metadata": {
        "id": "BA0ueOkjNz1x"
      },
      "id": "BA0ueOkjNz1x",
      "execution_count": null,
      "outputs": []
    },
    {
      "cell_type": "code",
      "source": [
        "# Stack the resume and JD vectors side-by-side\n",
        "X = hstack((resume_tfidf, jd_tfidf)).toarray()\n",
        "\n",
        "# Set the labels as the expected outcome\n",
        "y = resume_match_df['label'].values"
      ],
      "metadata": {
        "id": "40tzRpt2O2Gu"
      },
      "id": "40tzRpt2O2Gu",
      "execution_count": null,
      "outputs": []
    },
    {
      "cell_type": "markdown",
      "source": [
        "### K-Fold cross-validation Model Evaluation (TF-IDF)"
      ],
      "metadata": {
        "id": "B2OsqIKt1PTC"
      },
      "id": "B2OsqIKt1PTC"
    },
    {
      "cell_type": "code",
      "source": [
        "# Run cross-validation on the TF-IDF features using all defined models\n",
        "model_validation(X, y, folds=10)"
      ],
      "metadata": {
        "id": "FBLIdbkEPAf1",
        "colab": {
          "base_uri": "https://localhost:8080/",
          "height": 581
        },
        "outputId": "03c90d74-c688-441f-ddcf-bd9e56d6976b"
      },
      "id": "FBLIdbkEPAf1",
      "execution_count": null,
      "outputs": [
        {
          "output_type": "stream",
          "name": "stderr",
          "text": [
            "100%|██████████| 5/5 [2:19:35<00:00, 1675.04s/it]\n"
          ]
        },
        {
          "output_type": "display_data",
          "data": {
            "text/plain": [
              "<Figure size 1200x600 with 1 Axes>"
            ],
            "image/png": "[encoded data removed]"
          },
          "metadata": {}
        }
      ]
    },
    {
      "cell_type": "markdown",
      "source": [
        "Support Vector Machine is used here because it showed good performance in cross-validation. The box and whisker plot shows a lower variance in the results of the algorithm which was the highest with a median of around 72%."
      ],
      "metadata": {
        "id": "US_9d1yj17KE"
      },
      "id": "US_9d1yj17KE"
    },
    {
      "cell_type": "markdown",
      "source": [
        "### Algorithm optimization and classification of the data (TF-IDF)"
      ],
      "metadata": {
        "id": "uIDk4hpb1fE4"
      },
      "id": "uIDk4hpb1fE4"
    },
    {
      "cell_type": "code",
      "source": [
        "# Train-Test Split\n",
        "X_train, X_test, y_train, y_test = train_test_split(X, y, test_size=0.2, random_state=42)\n",
        "\n",
        "# Train the best classifier\n",
        "clf = SVC()\n",
        "clf.fit(X_train, y_train)\n",
        "\n",
        "# Predictions\n",
        "y_pred = clf.predict(X_test)\n",
        "\n",
        "# Evaluate performance\n",
        "accuracy = accuracy_score(y_test, y_pred)\n",
        "print(f\"Model Accuracy: {accuracy:.2f}\")\n",
        "\n",
        "# Evaluate the confusion matrix\n",
        "conf_matrix = confusion_matrix(y_test, y_pred)\n",
        "print(f\"Confusion Matrix: {conf_matrix}\")\n",
        "\n",
        "# Evaluate the classification report\n",
        "class_report = classification_report(y_test, y_pred)\n",
        "print(f\"Classification Report: {class_report}\")"
      ],
      "metadata": {
        "id": "K_bTK16uO4yl",
        "colab": {
          "base_uri": "https://localhost:8080/"
        },
        "outputId": "bac04a82-1302-45d5-f885-bbbe97fff8ae"
      },
      "id": "K_bTK16uO4yl",
      "execution_count": null,
      "outputs": [
        {
          "output_type": "stream",
          "name": "stdout",
          "text": [
            "Model Accuracy: 0.69\n"
          ]
        }
      ]
    },
    {
      "cell_type": "markdown",
      "source": [
        "## Results"
      ],
      "metadata": {
        "id": "kcfo-tZW2zQo"
      },
      "id": "kcfo-tZW2zQo"
    },
    {
      "cell_type": "markdown",
      "source": [
        "Based on the results, the algorithm got an accuracy of `` which is slightly better. It classifies the resumes and JDs on the basis of weighted word importance per document which also has some level of relationship with the labels but still doesn't solve the explainability issue completely.\n",
        "\n",
        "The TF-IDF technique gives us high-level and per-class performance metrics.\n",
        "\n",
        "So far the best performances for the techniques are as follows:\n",
        "\n",
        "Bag-of-Words: 69%\n",
        "\n",
        "TF-IDF: 72%\n",
        "\n",
        "TF-IDF generated tokens can also be used in getting cosine similarities between the resumes and JDs. This similarity value can be used categorizing the values into labels (Good Fit, Potential Fit, No Fit)"
      ],
      "metadata": {
        "id": "XtIW-_-c3AGm"
      },
      "id": "XtIW-_-c3AGm"
    },
    {
      "cell_type": "markdown",
      "source": [
        "### TF-IDF Cosine Similarity Evaluation"
      ],
      "metadata": {
        "id": "VGdR-_6g79AZ"
      },
      "id": "VGdR-_6g79AZ"
    },
    {
      "cell_type": "markdown",
      "source": [
        "Cosine similarity gives us a number from 0 to 1. A higher values means more similarity."
      ],
      "metadata": {
        "id": "RMwOakkc7I-Z"
      },
      "id": "RMwOakkc7I-Z"
    },
    {
      "cell_type": "markdown",
      "source": [
        "We combine resume and JD text together because cosine similarity compares vectors of the same dimension"
      ],
      "metadata": {
        "id": "kCxHgsxR-1fN"
      },
      "id": "kCxHgsxR-1fN"
    },
    {
      "cell_type": "code",
      "source": [
        "# Combine all text into a single matrix to maintain same feature dimensions\n",
        "tfidf_matrix = tfidf_vectorizer.fit_transform(corpus)\n",
        "\n",
        "# split back to resume and jd matrices\n",
        "cos_sim_resume_tfidf = tfidf_matrix[:len(resume_texts)]\n",
        "cos_sim_jd_tfidf = tfidf_matrix[len(resume_texts):]\n",
        "\n",
        "# For each resume-JD pair, compute cosine similarity score\n",
        "similarity_scores = [cosine_similarity(cos_sim_resume_tfidf[i], cos_sim_jd_tfidf[i])[0][0] for i in range(len(resume_tfidf.toarray()))]"
      ],
      "metadata": {
        "id": "IQNNKGRc8Bfn"
      },
      "id": "IQNNKGRc8Bfn",
      "execution_count": null,
      "outputs": []
    },
    {
      "cell_type": "markdown",
      "source": [
        "#### Identifying the best threshold to categorize the similarity scores."
      ],
      "metadata": {
        "id": "o-vS8XrI83OJ"
      },
      "id": "o-vS8XrI83OJ"
    },
    {
      "cell_type": "markdown",
      "source": [],
      "metadata": {
        "id": "FXkbpPZY9G33"
      },
      "id": "FXkbpPZY9G33"
    },
    {
      "cell_type": "code",
      "source": [
        "# classify based on fixed similarity thresholds\n",
        "def classify_similarity_scores(scores):\n",
        "  \"\"\"\n",
        "  classify_similarity_scores(scores)\n",
        "  Converts cosine similarity scores in to suitablility labels\n",
        "  scores: list of cosine similarity scores\n",
        "  returns: list of labels\n",
        "  \"\"\"\n",
        "  similarity_scores = []\n",
        "  for score in scores:\n",
        "    if score >= 0.2:\n",
        "      # score is good\n",
        "      similarity_scores.append(\"Good Fit\")\n",
        "    elif score >= 0.1 and score < 0.2:\n",
        "      similarity_scores.append(\"Potential Fit\")\n",
        "    elif score < 0.1:\n",
        "      similarity_scores.append(\"No Fit\")\n",
        "\n",
        "  predictions = pd.DataFrame(similarity_scores)\n",
        "\n",
        "  return predictions\n",
        "\n",
        "cos_sim_pred = classify_similarity_scores(similarity_scores)"
      ],
      "metadata": {
        "id": "2AojnVrUCz_W"
      },
      "id": "2AojnVrUCz_W",
      "execution_count": null,
      "outputs": []
    },
    {
      "cell_type": "code",
      "source": [
        "# Evaluate Model\n",
        "accuracy = accuracy_score(y, cos_sim_pred)\n",
        "print(f\"Model Accuracy: {accuracy:.2f}\")\n",
        "\n",
        "# Evaluate the confusion matrix\n",
        "conf_matrix = confusion_matrix(y, cos_sim_pred)\n",
        "print(f\"Confusion Matrix: {conf_matrix}\")\n",
        "\n",
        "# Evaluate the classification report\n",
        "class_report = classification_report(y, cos_sim_pred)\n",
        "print(f\"Classification Report: {class_report}\")"
      ],
      "metadata": {
        "id": "UqZtPrmlGb0v",
        "colab": {
          "base_uri": "https://localhost:8080/"
        },
        "outputId": "4738364c-8279-4645-9cec-ed18ca69ddf5"
      },
      "id": "UqZtPrmlGb0v",
      "execution_count": null,
      "outputs": [
        {
          "output_type": "stream",
          "name": "stdout",
          "text": [
            "Model Accuracy: 0.49\n"
          ]
        }
      ]
    },
    {
      "cell_type": "markdown",
      "source": [
        "This method of classification gave a poor result. This indicates the `cosine similarity` of a resume and job description does not directly denote the matching level(Good Fit, Potential Fit, No Fit). This can be seen by the analysis below."
      ],
      "metadata": {
        "id": "9Xc01X---in2"
      },
      "id": "9Xc01X---in2"
    },
    {
      "cell_type": "code",
      "source": [
        "y_df = pd.DataFrame(y)\n",
        "no_fit_actual = y_df.loc[y_df[0] == \"No Fit\"].count()[0]\n",
        "pot_fit_actual = y_df.loc[y_df[0] == \"Potential Fit\"].count()[0]\n",
        "good_fit_actual = y_df.loc[y_df[0] == \"Good Fit\"].count()[0]\n",
        "no_fit_pred = cos_sim_pred.loc[cos_sim_pred[0] == \"No Fit\"].count()[0]\n",
        "pot_fit_pred = cos_sim_pred.loc[cos_sim_pred[0] == \"Potential Fit\"].count()[0]\n",
        "good_fit_pred = cos_sim_pred.loc[cos_sim_pred[0] == \"Good Fit\"].count()[0]\n",
        "print(f\"Good Fit Predictions Count:{good_fit_pred}...Good Fit Actual Count:{good_fit_actual}\")\n",
        "print(f\"Potential Fit Predictions Count:{pot_fit_pred}...Potential Fit Actual Count:{pot_fit_actual}\")\n",
        "print(f\"Not Fit Predictions Count:{no_fit_pred}...Not Fit Actual Count:{no_fit_actual}\")"
      ],
      "metadata": {
        "id": "86BmT8kae3UT",
        "colab": {
          "base_uri": "https://localhost:8080/"
        },
        "outputId": "f39ea240-f37d-4cbf-84f4-a47548986d42"
      },
      "id": "86BmT8kae3UT",
      "execution_count": null,
      "outputs": [
        {
          "output_type": "stream",
          "name": "stdout",
          "text": [
            "Good Fit Predictions Count:364...Good Fit Actual Count:2000\n",
            "Potential Fit Predictions Count:1849...Potential Fit Actual Count:2000\n",
            "Not Fit Predictions Count:5787...Not Fit Actual Count:4000\n"
          ]
        }
      ]
    },
    {
      "cell_type": "markdown",
      "source": [
        "NB: The results above do not substitute the `recall` metric.\n",
        "\n",
        "I will use a different vectorizer that works differently for comparison purposes."
      ],
      "metadata": {
        "id": "2BB2DBibAEIl"
      },
      "id": "2BB2DBibAEIl"
    },
    {
      "cell_type": "markdown",
      "source": [
        "## Vectorization using word embeddings (Word2Vec)"
      ],
      "metadata": {
        "id": "oouMdJ-MUZYF"
      },
      "id": "oouMdJ-MUZYF"
    },
    {
      "cell_type": "markdown",
      "source": [
        "This technique learns vector representations of words based on context."
      ],
      "metadata": {
        "id": "Q7sKqODv-CRO"
      },
      "id": "Q7sKqODv-CRO"
    },
    {
      "cell_type": "code",
      "source": [
        "# Combine preprocessed resume and JD tokens for training Word2Vec\n",
        "all_tokens = preprocessed_resume_text + preprocessed_jd_text\n",
        "\n",
        "# Train a Word2Vec model\n",
        "word2vec_model = Word2Vec(sentences=all_tokens, vector_size=100, window=5, min_count=1, workers=4)\n",
        "\n",
        "# Function to get the average Word2Vec vector for a document\n",
        "def get_vector(tokens, model):\n",
        "    vectors = [model.wv[word] for word in tokens if word in model.wv]\n",
        "    return np.mean(vectors, axis=0) if vectors else model.vector_size\n",
        "\n",
        "# Convert resumes & JDs into numerical vectors\n",
        "resume_vectors = np.array([get_vector(tokens, word2vec_model) for tokens in preprocessed_resume_text])\n",
        "jd_vectors = np.array([get_vector(tokens, word2vec_model) for tokens in preprocessed_jd_text])\n",
        "\n",
        "# Combine resume and JD vectors side-by-side to form feature set\n",
        "X = np.hstack((resume_vectors, jd_vectors))\n",
        "y = resume_match_df['label'].values"
      ],
      "metadata": {
        "id": "4kRw15uyUeMt"
      },
      "id": "4kRw15uyUeMt",
      "execution_count": null,
      "outputs": []
    },
    {
      "cell_type": "markdown",
      "source": [
        "### K-Fold cross-validation Model Evaluation (Word2Vec)"
      ],
      "metadata": {
        "id": "QaJDmTXQ-25J"
      },
      "id": "QaJDmTXQ-25J"
    },
    {
      "cell_type": "code",
      "source": [
        "# Run 10-fold cross-validation on the Word2Vec vectors\n",
        "model_validation(X, y, folds=10)"
      ],
      "metadata": {
        "id": "5kBfFU05VF21",
        "colab": {
          "base_uri": "https://localhost:8080/",
          "height": 581
        },
        "outputId": "c07d1a1d-85ee-4e49-ce4b-46012a4ee851"
      },
      "id": "5kBfFU05VF21",
      "execution_count": null,
      "outputs": [
        {
          "output_type": "stream",
          "name": "stderr",
          "text": [
            "100%|██████████| 5/5 [02:19<00:00, 27.87s/it]\n"
          ]
        },
        {
          "output_type": "display_data",
          "data": {
            "text/plain": [
              "<Figure size 1200x600 with 1 Axes>"
            ],
            "image/png": "[encoded data removed]"
          },
          "metadata": {}
        }
      ]
    },
    {
      "cell_type": "markdown",
      "source": [
        "For this technique, the Random Forest Classifier was able to achieve the best results. The box and whisker plot shows a lower variance in all the algorithms in the results but has the highest performance with a median of around 73%."
      ],
      "metadata": {
        "id": "S0XB7-MyCTMj"
      },
      "id": "S0XB7-MyCTMj"
    },
    {
      "cell_type": "markdown",
      "source": [
        "### Algorithm optimization and classification of the data (Word2Vec)"
      ],
      "metadata": {
        "id": "lIvw9mNwYVnA"
      },
      "id": "lIvw9mNwYVnA"
    },
    {
      "cell_type": "code",
      "source": [
        "# Train-Test Split\n",
        "X_train, X_test, y_train, y_test = train_test_split(X, y, test_size=0.2, random_state=42)\n",
        "\n",
        "# Train Classifier\n",
        "clf = RandomForestClassifier()\n",
        "clf.fit(X_train, y_train)\n",
        "\n",
        "# Predictions\n",
        "y_pred = clf.predict(X_test)\n",
        "\n",
        "# Evaluate Model\n",
        "accuracy = accuracy_score(y_test, y_pred)\n",
        "print(f\"Model Accuracy: {accuracy:.2f}\")\n",
        "\n",
        "# Evaluate the confusion matrix\n",
        "conf_matrix = confusion_matrix(y_test, y_pred)\n",
        "print(f\"Confusion Matrix: {conf_matrix}\")\n",
        "\n",
        "# Evaluate the classification report\n",
        "class_report = classification_report(y_test, y_pred)\n",
        "print(f\"Classification Report: {class_report}\")"
      ],
      "metadata": {
        "id": "WSptKqp4VE61",
        "colab": {
          "base_uri": "https://localhost:8080/"
        },
        "outputId": "40527ea7-121c-413b-f06b-8ba41fe92cb9"
      },
      "id": "WSptKqp4VE61",
      "execution_count": null,
      "outputs": [
        {
          "output_type": "stream",
          "name": "stdout",
          "text": [
            "Model Accuracy: 0.73\n"
          ]
        }
      ]
    },
    {
      "cell_type": "markdown",
      "source": [
        "Based on the results, the algorithm got an accuracy of `73%` which is better. It classifies the resumes and JDs on the contextual meaning of the words contained in them. This brings out a better relationship with the labels.\n",
        "\n",
        "The Word2Vec technique gives us high-level and per-class performance metrics.\n",
        "\n",
        "So far the best performances for the techniques are as follows:\n",
        "\n",
        "Bag-of-Words: 69%\n",
        "\n",
        "TF-IDF: 72%\n",
        "\n",
        "TF-IDF (Cosine Similarity): 49%\n",
        "\n",
        "Word2Vec: 73%\n",
        "\n",
        "Similarly to TF-IDF, Word2Vec generated tokens can also be used in getting cosine similarities between the resumes and JDs. This similarity value can be used categorizing the values into labels (Good Fit, Potential Fit, No Fit)"
      ],
      "metadata": {
        "id": "bRpP5EF-AiIZ"
      },
      "id": "bRpP5EF-AiIZ"
    },
    {
      "cell_type": "markdown",
      "source": [
        "#### Word2Vec Cosine Similarity Evaluation"
      ],
      "metadata": {
        "id": "82qm_DjYYoLx"
      },
      "id": "82qm_DjYYoLx"
    },
    {
      "cell_type": "code",
      "source": [
        "similarity_scores_w2v = [cosine_similarity([cos_sim_resume_w2v], [cos_sim_jd_w2v])[0][0] for cos_sim_resume_w2v, cos_sim_jd_w2v in zip(resume_vectors, jd_vectors)]"
      ],
      "metadata": {
        "id": "el9DQ-_nVMmL"
      },
      "id": "el9DQ-_nVMmL",
      "execution_count": null,
      "outputs": []
    },
    {
      "cell_type": "code",
      "source": [
        "cos_sim_pred_w2v = classify_similarity_scores(similarity_scores_w2v)"
      ],
      "metadata": {
        "id": "MLK5F-ABdSaN"
      },
      "id": "MLK5F-ABdSaN",
      "execution_count": null,
      "outputs": []
    },
    {
      "cell_type": "code",
      "source": [
        "# Evaluate Model\n",
        "accuracy = accuracy_score(y, cos_sim_pred_w2v)\n",
        "print(f\"Model Accuracy: {accuracy:.2f}\")\n",
        "\n",
        "# Evaluate the confusion matrix\n",
        "conf_matrix = confusion_matrix(y,cos_sim_pred_w2v)\n",
        "print(f\"Confusion Matrix: {conf_matrix}\")\n",
        "\n",
        "# Evaluate the classification report\n",
        "class_report = classification_report(y, cos_sim_pred_w2v)\n",
        "print(f\"Classification Report: {class_report}\")"
      ],
      "metadata": {
        "id": "K1XXi7fMdjGk",
        "colab": {
          "base_uri": "https://localhost:8080/"
        },
        "outputId": "4522976a-838d-4ca1-e2a6-5015ae76473b"
      },
      "id": "K1XXi7fMdjGk",
      "execution_count": null,
      "outputs": [
        {
          "output_type": "stream",
          "name": "stdout",
          "text": [
            "Model Accuracy: 0.29\n"
          ]
        }
      ]
    },
    {
      "cell_type": "markdown",
      "source": [
        "This method of classification with Word2Vec gave the worst result. This indicates the `cosine similarity` of a resume and job description does not directly denote the matching level."
      ],
      "metadata": {
        "id": "ETKp3rp2Ex5J"
      },
      "id": "ETKp3rp2Ex5J"
    },
    {
      "cell_type": "markdown",
      "source": [
        "### Using Neural Network with word embeddings (Word2Vec & PyTorch)"
      ],
      "metadata": {
        "id": "_esNKA6LH-cj"
      },
      "id": "_esNKA6LH-cj"
    },
    {
      "cell_type": "code",
      "source": [
        "# Combine resume and JD vectors into single vectors\n",
        "X = np.concatenate([resume_vectors, jd_vectors], axis=1)\n",
        "\n",
        "# Encode labels and convert the features and labels to tensors\n",
        "label_encoder = LabelEncoder()\n",
        "y_encoded = label_encoder.fit_transform(y)\n",
        "\n",
        "# Convert everything into PyTorch tensors\n",
        "y_tensor = torch.tensor(y_encoded, dtype=torch.long)\n",
        "X_tensor = torch.tensor(X, dtype=torch.float32)\n",
        "\n",
        "# Train-test split\n",
        "X_train, X_test, y_train, y_test = train_test_split(X_tensor, y_tensor, test_size=0.2, random_state=42)"
      ],
      "metadata": {
        "id": "4FkAQ0bOH9L3"
      },
      "id": "4FkAQ0bOH9L3",
      "execution_count": null,
      "outputs": []
    },
    {
      "cell_type": "code",
      "source": [
        "# Set dimensions of the network\n",
        "input_dimension = X.shape[1]\n",
        "hidden_layers = 128\n",
        "output_dimension = len(np.unique(y_encoded))\n",
        "\n",
        "# Hyperparameter initialization\n",
        "learning_rate = 0.01\n",
        "epochs = 20\n",
        "batch_size = 32"
      ],
      "metadata": {
        "id": "Du8QZshrKJnq"
      },
      "id": "Du8QZshrKJnq",
      "execution_count": null,
      "outputs": []
    },
    {
      "cell_type": "code",
      "source": [
        "# Randomly initialize weights and biases\n",
        "W1 = torch.randn(input_dimension, hidden_layers, requires_grad=True)\n",
        "W1.data *= 0.01\n",
        "\n",
        "b1 = torch.zeros(hidden_layers, requires_grad=True)\n",
        "\n",
        "# Weights and biases for output layer\n",
        "W2 = torch.randn(hidden_layers, output_dimension, requires_grad=True)\n",
        "W2.data *= 0.01\n",
        "\n",
        "b2 = torch.zeros(output_dimension, requires_grad=True)\n",
        "\n",
        "# Use Adam optimizer for weight updates\n",
        "optimizer = torch.optim.Adam([W1, b1, W2, b2], lr=learning_rate)\n",
        "# Standard multi-class loss function\n",
        "criterion = torch.nn.CrossEntropyLoss()"
      ],
      "metadata": {
        "id": "0kWf0PQWKKuS"
      },
      "id": "0kWf0PQWKKuS",
      "execution_count": null,
      "outputs": []
    },
    {
      "cell_type": "code",
      "source": [
        "for epoch in range(epochs):\n",
        "    permutation = torch.randperm(X_train.size(0))  # shuffle\n",
        "\n",
        "    epoch_loss = 0\n",
        "    for i in range(0, X_train.size(0), batch_size):\n",
        "        indices = permutation[i:i+batch_size]\n",
        "        batch_x, batch_y = X_train[indices], y_train[indices]\n",
        "\n",
        "        # Forward pass\n",
        "        z1 = batch_x @ W1 + b1  # Linear\n",
        "        a1 = F.relu(z1)         # ReLu activation\n",
        "        z2 = a1 @ W2 + b2       # Output layer\n",
        "        loss = criterion(z2, batch_y)\n",
        "\n",
        "        # Backpropagation\n",
        "        optimizer.zero_grad()\n",
        "        loss.backward()\n",
        "        optimizer.step()\n",
        "\n",
        "        epoch_loss += loss.item()\n",
        "\n",
        "    print(f\"Epoch {epoch+1}/{epochs} - Loss: {epoch_loss:.4f}\")"
      ],
      "metadata": {
        "id": "GDRNuoRYK5V-",
        "colab": {
          "base_uri": "https://localhost:8080/"
        },
        "outputId": "69fa625c-f996-4d6c-cbe0-fea2935fe92c"
      },
      "id": "GDRNuoRYK5V-",
      "execution_count": null,
      "outputs": [
        {
          "output_type": "stream",
          "name": "stdout",
          "text": [
            "Epoch 1/20 - Loss: 190.5731\n",
            "Epoch 2/20 - Loss: 170.1853\n",
            "Epoch 3/20 - Loss: 157.8612\n",
            "Epoch 4/20 - Loss: 150.2730\n",
            "Epoch 5/20 - Loss: 146.2840\n",
            "Epoch 6/20 - Loss: 141.8039\n",
            "Epoch 7/20 - Loss: 135.5973\n",
            "Epoch 8/20 - Loss: 131.8112\n",
            "Epoch 9/20 - Loss: 128.7633\n",
            "Epoch 10/20 - Loss: 126.7108\n",
            "Epoch 11/20 - Loss: 124.3715\n",
            "Epoch 12/20 - Loss: 119.9519\n",
            "Epoch 13/20 - Loss: 119.5970\n",
            "Epoch 14/20 - Loss: 115.0536\n",
            "Epoch 15/20 - Loss: 114.7070\n",
            "Epoch 16/20 - Loss: 113.1334\n",
            "Epoch 17/20 - Loss: 111.6503\n",
            "Epoch 18/20 - Loss: 108.6788\n",
            "Epoch 19/20 - Loss: 107.7734\n",
            "Epoch 20/20 - Loss: 106.6361\n"
          ]
        }
      ]
    },
    {
      "cell_type": "code",
      "source": [
        "with torch.no_grad():\n",
        "    z1 = X_test @ W1 + b1\n",
        "    a1 = F.relu(z1)\n",
        "    z2 = a1 @ W2 + b2\n",
        "    predictions = torch.argmax(z2, dim=1)\n",
        "\n",
        "    # Compare predicted vs actual and get accuracy\n",
        "    accuracy = (predictions == y_test).float().mean()\n",
        "    print(f\"\\nTest Accuracy: {accuracy:.4f}\")"
      ],
      "metadata": {
        "id": "-Cjune9NK8mk",
        "colab": {
          "base_uri": "https://localhost:8080/"
        },
        "outputId": "ce9bc525-5259-4dcb-a3e5-9503c33335a5"
      },
      "id": "-Cjune9NK8mk",
      "execution_count": null,
      "outputs": [
        {
          "output_type": "stream",
          "name": "stdout",
          "text": [
            "\n",
            "Test Accuracy: 0.7113\n"
          ]
        }
      ]
    },
    {
      "cell_type": "markdown",
      "source": [
        "### Using DISTILBERT Pretrained model"
      ],
      "metadata": {
        "id": "jNntLpEzeXdh"
      },
      "id": "jNntLpEzeXdh"
    },
    {
      "cell_type": "code",
      "source": [
        "# Convert label to numeric classes\n",
        "resume_match_df['label'] = resume_match_df['label'].map({'No Fit': 0, 'Potential Fit': 1, 'Good Fit': 2})\n",
        "\n",
        "# Create a list of (resume, job_description) tuples for input\n",
        "texts = [f\"[RESUME] {resume} [SEP] [JOB] {job}\" for resume, job in zip(resume_match_df['resume_text'], resume_match_df['job_description_text'])]\n",
        "#texts = list(zip(resume_match_df['resume_text'], resume_match_df['job_description_text']))\n",
        "# Extract labels into list\n",
        "labels = resume_match_df['label'].tolist()"
      ],
      "metadata": {
        "id": "pTnhJceIYphZ"
      },
      "id": "pTnhJceIYphZ",
      "execution_count": null,
      "outputs": []
    },
    {
      "cell_type": "code",
      "source": [
        "\n",
        "tokenizer = DistilBertTokenizer.from_pretrained('distilbert-base-uncased', num_labels=3)"
      ],
      "metadata": {
        "id": "m_FrHdOves1r"
      },
      "id": "m_FrHdOves1r",
      "execution_count": null,
      "outputs": []
    },
    {
      "cell_type": "markdown",
      "source": [
        "#### Create a tokenization function"
      ],
      "metadata": {
        "id": "vYwsVrNII7Ik"
      },
      "id": "vYwsVrNII7Ik"
    },
    {
      "cell_type": "code",
      "source": [
        "def tokenize(texts, labels):\n",
        "    \"\"\"\n",
        "    tokenize(texts, labels)\n",
        "    \"\"\"\n",
        "    encodings = tokenizer.batch_encode_plus(\n",
        "        texts,\n",
        "        padding=True,\n",
        "        truncation=True,\n",
        "        max_length=512,\n",
        "        return_tensors='pt'\n",
        "    )\n",
        "    input_ids = encodings['input_ids']\n",
        "    attention_mask = encodings['attention_mask']\n",
        "    labels_tensor = torch.tensor(labels, dtype=torch.long)\n",
        "    return TensorDataset(input_ids, attention_mask, labels_tensor)"
      ],
      "metadata": {
        "id": "0tsseYk8fZPc"
      },
      "id": "0tsseYk8fZPc",
      "execution_count": null,
      "outputs": []
    },
    {
      "cell_type": "markdown",
      "source": [
        "#### Train/Test split"
      ],
      "metadata": {
        "id": "Nczg8ip8JQJa"
      },
      "id": "Nczg8ip8JQJa"
    },
    {
      "cell_type": "code",
      "source": [
        "# Train-test split\n",
        "X_train, X_test, y_train, y_test = train_test_split(texts, labels, test_size=0.2, random_state=42)\n",
        "train_dataset = tokenize(X_train, y_train)\n",
        "test_dataset = tokenize(X_test, y_test)"
      ],
      "metadata": {
        "id": "xjRE0h-jfgtR"
      },
      "id": "xjRE0h-jfgtR",
      "execution_count": null,
      "outputs": []
    },
    {
      "cell_type": "code",
      "source": [
        "train_loader = DataLoader(train_dataset, sampler=RandomSampler(train_dataset), batch_size=8)\n",
        "test_loader = DataLoader(test_dataset, sampler=SequentialSampler(test_dataset), batch_size=8)"
      ],
      "metadata": {
        "id": "iiIbzIdMiNe9"
      },
      "id": "iiIbzIdMiNe9",
      "execution_count": null,
      "outputs": []
    },
    {
      "cell_type": "markdown",
      "source": [
        "### Load the DistilBERT classification model"
      ],
      "metadata": {
        "id": "_BIXq0JKJhA5"
      },
      "id": "_BIXq0JKJhA5"
    },
    {
      "cell_type": "code",
      "source": [
        "model = DistilBertForSequenceClassification.from_pretrained('distilbert-base-uncased', num_labels=3)\n",
        "device = torch.device('cuda' if torch.cuda.is_available() else 'cpu')\n",
        "model.to(device)"
      ],
      "metadata": {
        "id": "QMbJFnQMjVmb"
      },
      "id": "QMbJFnQMjVmb",
      "execution_count": null,
      "outputs": []
    },
    {
      "cell_type": "code",
      "source": [
        "optimizer = AdamW(model.parameters(), lr=5e-5)\n",
        "num_training_steps = len(train_loader) * 3  # 3 epochs\n",
        "scheduler = get_scheduler(\"linear\", optimizer=optimizer, num_warmup_steps=0, num_training_steps=num_training_steps)"
      ],
      "metadata": {
        "id": "FQzPqUl9joAE"
      },
      "id": "FQzPqUl9joAE",
      "execution_count": null,
      "outputs": []
    },
    {
      "cell_type": "code",
      "source": [
        "def train_model():\n",
        "    \"\"\"\n",
        "    train_model()\n",
        "\n",
        "    This function trains the DistilBERT classification model on the training dataset.\n",
        "    It loops through the dataset for a defined number of epochs, performs forward\n",
        "    propagation to calculate the loss, and then applies backpropagation to update\n",
        "    the model weights using the Adam optimizer and a linear learning rate scheduler.\n",
        "\n",
        "    returns: None. Prints the training loss for each epoch to track model convergence.\n",
        "    \"\"\"\n",
        "    model.train()\n",
        "    # train for 15 epochs over the training dataset\n",
        "    for epoch in range(15):\n",
        "        print(f\"\\nEpoch {epoch + 1}\")\n",
        "        loop = tqdm(train_loader)\n",
        "        for batch in loop:\n",
        "            batch = tuple(t.to(device) for t in batch)\n",
        "            input_ids, attention_mask, labels = batch\n",
        "\n",
        "            outputs = model(input_ids, attention_mask=attention_mask, labels=labels)\n",
        "            loss = outputs.loss\n",
        "\n",
        "            # backward pass\n",
        "            loss.backward()\n",
        "            # compute gradients\n",
        "            optimizer.step()\n",
        "            # update learning rate\n",
        "            scheduler.step()\n",
        "            optimizer.zero_grad()\n",
        "\n",
        "            loop.set_description(f\"Epoch {epoch+1}\")\n",
        "            loop.set_postfix(loss=loss.item())\n",
        "\n",
        "train_model()"
      ],
      "metadata": {
        "id": "kHDmcOIjj6r0"
      },
      "id": "kHDmcOIjj6r0",
      "execution_count": null,
      "outputs": []
    },
    {
      "cell_type": "code",
      "source": [
        "def evaluate_model():\n",
        "    \"\"\"\n",
        "    evaluate_model()\n",
        "    This function evaluates the performance of the DistilBERT classification model\n",
        "    on the test dataset. It disables gradient calculation, performs a forward pass\n",
        "    to get predictions for each batch in the test set, and computes classification\n",
        "    metrics to measure model performance.\n",
        "\n",
        "    returns: None. Prints out a classification report comparing predicted labels\n",
        "    to the actual labels in the test set.\n",
        "    \"\"\"\n",
        "    model.eval()\n",
        "    # store predictions and actual labels\n",
        "    all_preds = []\n",
        "    all_labels = []\n",
        "    with torch.no_grad():\n",
        "        for batch in test_loader:\n",
        "            batch = tuple(t.to(device) for t in batch)\n",
        "            input_ids, attention_mask, labels = batch\n",
        "            # forward pass\n",
        "            outputs = model(input_ids, attention_mask=attention_mask)\n",
        "            preds = torch.argmax(outputs.logits, dim=1)\n",
        "            # store predictions and actual labels\n",
        "            all_preds.extend(preds.cpu().numpy())\n",
        "            all_labels.extend(labels.cpu().numpy())\n",
        "    # compute and print overall accuracy\n",
        "    accuracy = accuracy_score(all_labels, all_preds)\n",
        "    print(f\"\\nTest Accuracy: {accuracy:.4f}\")\n",
        "\n",
        "    print(\"\\nClassification Report:\\n\")\n",
        "    target_names = ['No Fit', 'Potential Fit', 'Good Fit']\n",
        "    print(classification_report(all_labels, all_preds, target_names=target_names))\n",
        "\n",
        "evaluate_model()\n"
      ],
      "metadata": {
        "id": "B2doBcvHkVRR"
      },
      "id": "B2doBcvHkVRR",
      "execution_count": null,
      "outputs": []
    },
    {
      "cell_type": "markdown",
      "source": [
        "### Using Longformer(longformer-base-4096) Pretrained model"
      ],
      "metadata": {
        "id": "AAn1Pu_fDIza"
      },
      "id": "AAn1Pu_fDIza"
    },
    {
      "cell_type": "code",
      "source": [
        "resume_match_df['label'] = resume_match_df['label'].map({'No Fit': 0, 'Potential Fit': 1, 'Good Fit': 2})\n",
        "texts = list(zip(resume_match_df['resume_text'], resume_match_df['job_description_text']))\n",
        "labels = resume_match_df['label'].tolist()"
      ],
      "metadata": {
        "id": "lVVtWEvSDQzh"
      },
      "id": "lVVtWEvSDQzh",
      "execution_count": null,
      "outputs": []
    },
    {
      "cell_type": "code",
      "source": [
        "tokenizer = LongformerTokenizer.from_pretrained('allenai/longformer-base-4096')\n",
        "model = LongformerForSequenceClassification.from_pretrained('allenai/longformer-base-4096', num_labels=3)\n",
        "device = torch.device(\"cuda\" if torch.cuda.is_available() else \"cpu\")\n",
        "model.to(device)"
      ],
      "metadata": {
        "id": "TPVq1Um0DWaS"
      },
      "id": "TPVq1Um0DWaS",
      "execution_count": null,
      "outputs": []
    },
    {
      "cell_type": "code",
      "source": [
        "def tokenize(texts, labels):\n",
        "    \"\"\"\n",
        "    Tokenize the input text pairs using Longformer.\n",
        "    \"\"\"\n",
        "    combined_texts = [f\"[CLS] {r} [SEP] {j}\" for r, j in texts]\n",
        "    encodings = tokenizer.batch_encode_plus(\n",
        "        combined_texts,\n",
        "        padding=True,\n",
        "        truncation=True,\n",
        "        max_length=4096,\n",
        "        return_tensors='pt'\n",
        "    )\n",
        "    return TensorDataset(\n",
        "        encodings['input_ids'],\n",
        "        encodings['attention_mask'],\n",
        "        torch.tensor(labels, dtype=torch.long)\n",
        "    )"
      ],
      "metadata": {
        "id": "bcc8srI9DaEj"
      },
      "id": "bcc8srI9DaEj",
      "execution_count": null,
      "outputs": []
    },
    {
      "cell_type": "code",
      "source": [
        "X_train, X_test, y_train, y_test = train_test_split(texts, labels, test_size=0.2, random_state=42)\n",
        "train_dataset = tokenize(X_train, y_train)\n",
        "test_dataset = tokenize(X_test, y_test)\n",
        "\n",
        "train_loader = DataLoader(train_dataset, sampler=RandomSampler(train_dataset), batch_size=1)\n",
        "test_loader = DataLoader(test_dataset, sampler=SequentialSampler(test_dataset), batch_size=1)\n"
      ],
      "metadata": {
        "id": "I4J2263kDcKq"
      },
      "id": "I4J2263kDcKq",
      "execution_count": null,
      "outputs": []
    },
    {
      "cell_type": "code",
      "source": [
        "optimizer = AdamW(model.parameters(), lr=2e-5)\n",
        "num_training_steps = len(train_loader) * 3\n",
        "scheduler = get_scheduler(\"linear\", optimizer=optimizer, num_warmup_steps=0, num_training_steps=num_training_steps)\n",
        "\n",
        "def train_model():\n",
        "    model.train()\n",
        "    for epoch in range(3):\n",
        "        print(f\"\\nEpoch {epoch + 1}\")\n",
        "        loop = tqdm(train_loader)\n",
        "        for batch in loop:\n",
        "            batch = tuple(t.to(device) for t in batch)\n",
        "            input_ids, attention_mask, labels = batch\n",
        "\n",
        "            outputs = model(input_ids, attention_mask=attention_mask, labels=labels)\n",
        "            loss = outputs.loss\n",
        "\n",
        "            loss.backward()\n",
        "            optimizer.step()\n",
        "            scheduler.step()\n",
        "            optimizer.zero_grad()\n",
        "\n",
        "            loop.set_description(f\"Epoch {epoch+1}\")\n",
        "            loop.set_postfix(loss=loss.item())\n"
      ],
      "metadata": {
        "id": "SvEuvjcyDdyJ"
      },
      "id": "SvEuvjcyDdyJ",
      "execution_count": null,
      "outputs": []
    },
    {
      "cell_type": "code",
      "source": [
        "def evaluate_model():\n",
        "    model.eval()\n",
        "    all_preds, all_labels = [], []\n",
        "    with torch.no_grad():\n",
        "        for batch in test_loader:\n",
        "            batch = tuple(t.to(device) for t in batch)\n",
        "            input_ids, attention_mask, labels = batch\n",
        "            outputs = model(input_ids, attention_mask=attention_mask)\n",
        "            preds = torch.argmax(outputs.logits, dim=1)\n",
        "            all_preds.extend(preds.cpu().numpy())\n",
        "            all_labels.extend(labels.cpu().numpy())\n",
        "\n",
        "    accuracy = accuracy_score(all_labels, all_preds)\n",
        "    print(f\"\\nTest Accuracy: {accuracy:.4f}\")\n",
        "    print(\"\\nClassification Report:\\n\")\n",
        "    print(classification_report(all_labels, all_preds, target_names=['No Fit', 'Potential Fit', 'Good Fit']))\n"
      ],
      "metadata": {
        "id": "9kwEMNwLDfeb"
      },
      "id": "9kwEMNwLDfeb",
      "execution_count": null,
      "outputs": []
    }
  ],
  "metadata": {
    "kernelspec": {
      "display_name": "base",
      "language": "python",
      "name": "base"
    },
    "language_info": {
      "codemirror_mode": {
        "name": "ipython",
        "version": 3
      },
      "file_extension": ".py",
      "mimetype": "text/x-python",
      "name": "python",
      "nbconvert_exporter": "python",
      "pygments_lexer": "ipython3",
      "version": "3.9.12"
    },
    "colab": {
      "provenance": [],
      "gpuType": "T4",
      "machine_shape": "hm"
    },
    "accelerator": "GPU"
  },
  "nbformat": 4,
  "nbformat_minor": 5
}