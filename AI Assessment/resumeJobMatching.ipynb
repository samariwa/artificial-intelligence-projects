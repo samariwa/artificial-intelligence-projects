{
  "cells": [
    {
      "cell_type": "markdown",
      "source": [
        "#Resume Job Description Matching"
      ],
      "metadata": {
        "id": "xE1tdIWPs7wF"
      },
      "id": "xE1tdIWPs7wF"
    },
    {
      "cell_type": "markdown",
      "source": [
        "## Install dependencies"
      ],
      "metadata": {
        "id": "OB7BWs9YsqOP"
      },
      "id": "OB7BWs9YsqOP"
    },
    {
      "cell_type": "code",
      "source": [
        "!pip install gensim\n",
        "!pip install transformers"
      ],
      "metadata": {
        "id": "kw2MNLQobtLH",
        "outputId": "053d102a-3fcb-4802-a017-3d7f9b40450c",
        "colab": {
          "base_uri": "https://localhost:8080/"
        }
      },
      "id": "kw2MNLQobtLH",
      "execution_count": null,
      "outputs": [
        {
          "output_type": "stream",
          "name": "stdout",
          "text": [
            "Requirement already satisfied: gensim in /usr/local/lib/python3.11/dist-packages (4.3.3)\n",
            "Requirement already satisfied: numpy<2.0,>=1.18.5 in /usr/local/lib/python3.11/dist-packages (from gensim) (1.23.5)\n",
            "Requirement already satisfied: scipy<1.14.0,>=1.7.0 in /usr/local/lib/python3.11/dist-packages (from gensim) (1.13.1)\n",
            "Requirement already satisfied: smart-open>=1.8.1 in /usr/local/lib/python3.11/dist-packages (from gensim) (7.1.0)\n",
            "Requirement already satisfied: wrapt in /usr/local/lib/python3.11/dist-packages (from smart-open>=1.8.1->gensim) (1.17.2)\n",
            "Requirement already satisfied: numpy==1.23.5 in /usr/local/lib/python3.11/dist-packages (1.23.5)\n"
          ]
        }
      ]
    },
    {
      "cell_type": "markdown",
      "source": [
        "## Import required libraries"
      ],
      "metadata": {
        "id": "eqmwP9O_syuq"
      },
      "id": "eqmwP9O_syuq"
    },
    {
      "cell_type": "code",
      "execution_count": null,
      "id": "4e35b23b-2b1f-49f0-b77a-67f6023fed73",
      "metadata": {
        "id": "4e35b23b-2b1f-49f0-b77a-67f6023fed73"
      },
      "outputs": [],
      "source": [
        "# library imports\n",
        "import numpy as np\n",
        "import pandas as pd\n",
        "import matplotlib.pyplot as plt\n",
        "import spacy\n",
        "import torch\n",
        "import re\n",
        "from tqdm import tqdm\n",
        "from sklearn.feature_extraction.text import CountVectorizer\n",
        "from sklearn.feature_extraction.text import TfidfVectorizer\n",
        "import gensim\n",
        "from gensim.models import Word2Vec\n",
        "from sklearn.model_selection import train_test_split, KFold\n",
        "from sklearn.ensemble import RandomForestClassifier\n",
        "from sklearn.neighbors import KNeighborsClassifier\n",
        "from sklearn.tree import DecisionTreeClassifier\n",
        "from sklearn.svm import SVC\n",
        "from sklearn.naive_bayes import GaussianNB\n",
        "from sklearn.preprocessing import LabelEncoder\n",
        "from sklearn.metrics import accuracy_score, classification_report\n",
        "from scipy.sparse import hstack\n",
        "from sklearn.metrics.pairwise import cosine_similarity\n",
        "import torch.nn.functional as F"
      ]
    },
    {
      "cell_type": "markdown",
      "source": [
        "## Load the dataset and shuffle the data in it"
      ],
      "metadata": {
        "id": "B-vv_mIAtEAj"
      },
      "id": "B-vv_mIAtEAj"
    },
    {
      "cell_type": "markdown",
      "source": [
        "The dataset which is on my github has the three classes (Good Fit, Potential Fit, No Fit) grouped together. This will lead to class imbalance in the training data which leads to poor predictive results. To handle this, shuffling has been done using the `.sample()` pandas method for better generalization."
      ],
      "metadata": {
        "id": "cLp8G2A3tjf3"
      },
      "id": "cLp8G2A3tjf3"
    },
    {
      "cell_type": "code",
      "execution_count": null,
      "id": "2251e2f7-6000-47bd-b2eb-199d6418b3d8",
      "metadata": {
        "id": "2251e2f7-6000-47bd-b2eb-199d6418b3d8"
      },
      "outputs": [],
      "source": [
        "resume_match_df = pd.read_csv(\"https://raw.githubusercontent.com/samariwa/artificial-intelligence-projects/refs/heads/main/AI%20Assessment/data.csv\").sample(frac=1)\n",
        "resume_match_df = resume_match_df.head(2000)"
      ]
    },
    {
      "cell_type": "markdown",
      "source": [
        "## Tokenization of text"
      ],
      "metadata": {
        "id": "dW5mL77fu8l3"
      },
      "id": "dW5mL77fu8l3"
    },
    {
      "cell_type": "markdown",
      "source": [
        "Initialize SpaCy's English model that can be used to convert the resume and job description text into tokens that can be used to perform classification using various techniques. This involves making all characters lowercase, lemmatizing the text and removing stop words (which are of no significance in the classification)."
      ],
      "metadata": {
        "id": "ZfxJgfzbvITN"
      },
      "id": "ZfxJgfzbvITN"
    },
    {
      "cell_type": "code",
      "execution_count": null,
      "id": "48c28eb7-ea59-4a08-902f-f8066217c974",
      "metadata": {
        "id": "48c28eb7-ea59-4a08-902f-f8066217c974"
      },
      "outputs": [],
      "source": [
        "nlp = spacy.load(\"en_core_web_sm\")"
      ]
    },
    {
      "cell_type": "code",
      "execution_count": null,
      "id": "24425f2a-932a-4d83-a002-60e271eda3bf",
      "metadata": {
        "id": "24425f2a-932a-4d83-a002-60e271eda3bf"
      },
      "outputs": [],
      "source": [
        "def tokenize_text(text):\n",
        "    \"\"\"\n",
        "    tokenize_text(text)\n",
        "    This function will tokenize the texts from the resumes and job descriptions\n",
        "    This will be first preprocessed by removing stop words that add no semantic value\n",
        "    and lemmatized for a standardized set of words\n",
        "    text(string): the text to be tokenized\n",
        "    returns: list of tokens generated from the text passed in as an arg\n",
        "    \"\"\"\n",
        "    doc = nlp(text.lower())\n",
        "    return [token.lemma_ for token in doc if token.is_alpha and not token.is_stop]"
      ]
    },
    {
      "cell_type": "markdown",
      "source": [
        "### Perform the tokenization for each resume and each job description and store the list of tokens in their respective lists"
      ],
      "metadata": {
        "id": "6va5L4Ahwaay"
      },
      "id": "6va5L4Ahwaay"
    },
    {
      "cell_type": "code",
      "execution_count": null,
      "id": "c4ea01f4-6c24-4416-8a30-38cbf8ecafb7",
      "metadata": {
        "id": "c4ea01f4-6c24-4416-8a30-38cbf8ecafb7",
        "outputId": "aa43d904-cc06-4f0f-c278-94a9fca024f3",
        "colab": {
          "base_uri": "https://localhost:8080/"
        }
      },
      "outputs": [
        {
          "output_type": "stream",
          "name": "stderr",
          "text": [
            "100%|██████████| 2000/2000 [07:24<00:00,  4.50it/s]\n"
          ]
        }
      ],
      "source": [
        "# initialize string that will contain tokens for each resume and job description\n",
        "preprocessed_resume_text = []\n",
        "preprocessed_jd_text = []\n",
        "for i in tqdm(range(len(resume_match_df))):\n",
        "    preprocessed_resume_text.append(tokenize_text(resume_match_df.iloc[i]['resume_text']))\n",
        "    preprocessed_jd_text.append(tokenize_text(resume_match_df.iloc[i]['job_description_text']))"
      ]
    },
    {
      "cell_type": "markdown",
      "source": [
        "For each resume and JD (job desription, rejoin the tokens into strings using the space \" \" delimiter.\n",
        "\n",
        "Join the sets of words, resume_text and jd_text into one pool of words which woll be processed by the various vectorizers accordingly."
      ],
      "metadata": {
        "id": "zMLAua0-xFu8"
      },
      "id": "zMLAua0-xFu8"
    },
    {
      "cell_type": "code",
      "execution_count": null,
      "id": "be146ea2-54ca-490f-923f-c9130fe33f9c",
      "metadata": {
        "id": "be146ea2-54ca-490f-923f-c9130fe33f9c",
        "outputId": "cb23b7d6-7e88-4aa4-9ad7-390447e4b90d",
        "colab": {
          "base_uri": "https://localhost:8080/"
        }
      },
      "outputs": [
        {
          "output_type": "stream",
          "name": "stderr",
          "text": [
            "100%|██████████| 2000/2000 [00:00<00:00, 44865.82it/s]\n",
            "100%|██████████| 2000/2000 [00:00<00:00, 95733.04it/s]\n"
          ]
        }
      ],
      "source": [
        "# convert the tokens in each list back to strings\n",
        "resume_texts = [\" \".join(tokens) for tokens in tqdm(preprocessed_resume_text)]\n",
        "jd_texts = [\" \".join(tokens) for tokens in tqdm(preprocessed_jd_text)]\n",
        "'''\n",
        "combine the resume and job description texts before count vectorizing\n",
        "In each row we represent the tokens as values counts for the number of\n",
        "times they appear in the document\n",
        "'''\n",
        "\n",
        "corpus = resume_texts + jd_texts"
      ]
    },
    {
      "cell_type": "markdown",
      "id": "5c54a788-16c3-4d59-803c-7588163a9158",
      "metadata": {
        "id": "5c54a788-16c3-4d59-803c-7588163a9158"
      },
      "source": [
        "## Vectorization using the Bag of Words Vectorizer\n",
        "\n",
        "1.   Initialize the BoW count vectorizer\n",
        "2.   Transform the words into vectors which are represented by the number of times they appear in a sentence (the joined tokens)\n",
        "3. Reseparate the resume and jd text and put them side-by-side (a resume with is correpsonding JD in one row). This will act as the features and the outcomes of the selection process as the labels.\n",
        "\n"
      ]
    },
    {
      "cell_type": "code",
      "execution_count": null,
      "id": "26a68836-6e3d-437a-a723-fe3ad8b256b2",
      "metadata": {
        "id": "26a68836-6e3d-437a-a723-fe3ad8b256b2"
      },
      "outputs": [],
      "source": [
        "# initialize bag of words vectorizer\n",
        "vectorizer = CountVectorizer()\n",
        "# transform the corpus (resume + jd text) into vectors\n",
        "bow_matrix = vectorizer.fit_transform(corpus)\n",
        "# separate the resume and jd text and set them side-by-side\n",
        "resume_bow = bow_matrix[:len(resume_texts)].toarray()\n",
        "jd_bow = bow_matrix[len(resume_texts):].toarray()"
      ]
    },
    {
      "cell_type": "code",
      "execution_count": null,
      "id": "66e198cf-6bfd-4433-939a-f0756449b063",
      "metadata": {
        "id": "66e198cf-6bfd-4433-939a-f0756449b063"
      },
      "outputs": [],
      "source": [
        "# we horizontally stack JDs and resumes so that we have numeric representations od words for JDs and corresponding resume\n",
        "X = np.hstack((resume_bow, jd_bow))\n",
        "# this representation created above will be set against the job-match decision\n",
        "y = resume_match_df['label'].values"
      ]
    },
    {
      "cell_type": "markdown",
      "id": "1ba4f239-a5fa-4e56-a16d-eb36ddcd3eb8",
      "metadata": {
        "id": "1ba4f239-a5fa-4e56-a16d-eb36ddcd3eb8"
      },
      "source": [
        "### Run classification of the data using various algorithms"
      ]
    },
    {
      "cell_type": "markdown",
      "source": [
        "First it is necessary to establish which algorithm performs well for this problem. This can iteratively be done through cross-validation using several algorithms and this can be helpful is establishing how well generalized our data is."
      ],
      "metadata": {
        "id": "LSnri9pJ1VKF"
      },
      "id": "LSnri9pJ1VKF"
    },
    {
      "cell_type": "code",
      "execution_count": null,
      "id": "39b69922-fda7-46ef-ad9c-2beb3bfb5905",
      "metadata": {
        "id": "39b69922-fda7-46ef-ad9c-2beb3bfb5905"
      },
      "outputs": [],
      "source": [
        "def classify_k_fold_x_validation(model, x_data, y_data, folds):\n",
        "    \"\"\"\n",
        "    classify_k_fold_x_validation(model, x_data, y_data, folds)\n",
        "    This function performs k-fold cross validation by running trainings and testing on\n",
        "    different segments of the dataset. The number of segments id defined as an argument\n",
        "    model: The model being used for cross-validation\n",
        "    x_data: the set of features in the data\n",
        "    y_data: the labels of the data\n",
        "    folds: The value of k representing the number of divisions of the data to be done for cross-validation\n",
        "    \"\"\"\n",
        "    # list to store accuracy for each model\n",
        "    accuracy_scores = []\n",
        "    classifier = model()\n",
        "    k_fold = KFold(n_splits=folds, shuffle=False)\n",
        "    # For each fold(split) run classification and get the accuracy metric\n",
        "    for train_idx, test_idx in k_fold.split(x_data):\n",
        "        X_train, X_test, y_train, y_test = x_data[train_idx], x_data[test_idx], y_data[train_idx], y_data[test_idx]\n",
        "        classifier.fit(X_train, y_train)\n",
        "        accuracy_scores.append(classifier.score(X_test, y_test))\n",
        "\n",
        "    return accuracy_scores"
      ]
    },
    {
      "cell_type": "code",
      "execution_count": null,
      "id": "4a4c5c30-d453-433b-bf66-4a38c2bf9c09",
      "metadata": {
        "id": "4a4c5c30-d453-433b-bf66-4a38c2bf9c09"
      },
      "outputs": [],
      "source": [
        "def model_validation(x_data, y_data, folds=10):\n",
        "    \"\"\"\n",
        "    model_validation(x_data, y_data, folds=10)\n",
        "    Validates performance of various models\n",
        "    It passes each algorithm specified in the `models` list\n",
        "    to the classify_k_fold_x_validation(model, x_data, y_data, folds)\n",
        "    function together with feature and labels and the number of folds\n",
        "    expected.\n",
        "    \"\"\"\n",
        "    models = {'K-Nearest Neighbors': 'KNeighborsClassifier',\n",
        "              'Decision Tree': 'DecisionTreeClassifier',\n",
        "              'Random Forest': 'RandomForestClassifier',\n",
        "              'Support Vector Classifier': 'SVC',\n",
        "              'Gaussian Naive Bayes': 'GaussianNB'}\n",
        "    model_performance = {}\n",
        "    # For each model run cross-validation\n",
        "    for model_name, model_function in tqdm(models.items()):\n",
        "        accuracies = classify_k_fold_x_validation(eval(model_function), x_data, y_data, folds)\n",
        "        model_performance[model_name] = accuracies\n",
        "    plt.figure(figsize=(12, 6))\n",
        "    # Visualize each model's accuracy in a box and whisker plot\n",
        "    plt.boxplot(list(model_performance.values()), labels=list(model_performance.keys()))\n",
        "    plt.title('Classification Performance Comparison with K-Fold Cross Validation')\n",
        "    plt.xlabel('Classifier Model')\n",
        "    plt.ylabel('Accuracy Scores')\n",
        "    plt.show()"
      ]
    },
    {
      "cell_type": "code",
      "execution_count": null,
      "id": "45ebd99f-9f9b-4d60-bf18-f20f74229760",
      "metadata": {
        "id": "45ebd99f-9f9b-4d60-bf18-f20f74229760",
        "outputId": "e0ded1c5-8fb0-4fe0-9d33-1d9d352d312a",
        "colab": {
          "base_uri": "https://localhost:8080/",
          "height": 552
        }
      },
      "outputs": [
        {
          "output_type": "stream",
          "name": "stderr",
          "text": [
            "100%|██████████| 5/5 [33:54<00:00, 406.90s/it]\n",
            "<ipython-input-13-0c08bdfe2a30>:16: MatplotlibDeprecationWarning: The 'labels' parameter of boxplot() has been renamed 'tick_labels' since Matplotlib 3.9; support for the old name will be dropped in 3.11.\n",
            "  plt.boxplot(list(model_performance.values()), labels=list(model_performance.keys()))\n"
          ]
        },
        {
          "output_type": "display_data",
          "data": {
            "text/plain": [
              "<Figure size 1200x600 with 1 Axes>"
            ],
            "image/png": "[encoded data removed]"
          },
          "metadata": {}
        }
      ],
      "source": [
        "model_validation(X, y, folds=10)"
      ]
    },
    {
      "cell_type": "markdown",
      "source": [
        "For the model that performs best, run the model and perform hyper-parameter tuning"
      ],
      "metadata": {
        "id": "POKY3jT34YXv"
      },
      "id": "POKY3jT34YXv"
    },
    {
      "cell_type": "code",
      "execution_count": null,
      "id": "2292a75a-38a6-4539-839e-055ac1ac748c",
      "metadata": {
        "id": "2292a75a-38a6-4539-839e-055ac1ac748c",
        "outputId": "6acae7bc-37d6-4b0a-f3f5-42b493aa75ab",
        "colab": {
          "base_uri": "https://localhost:8080/"
        }
      },
      "outputs": [
        {
          "output_type": "stream",
          "name": "stdout",
          "text": [
            "Model Accuracy: 0.60\n"
          ]
        }
      ],
      "source": [
        "# Split the data into training and testing data\n",
        "X_train, X_test, y_train, y_test = train_test_split(X, y, test_size=0.2, random_state=42)\n",
        "\n",
        "# Train model\n",
        "clf = RandomForestClassifier(n_estimators=100, random_state=42)\n",
        "clf.fit(X_train, y_train)\n",
        "\n",
        "# Predictions\n",
        "y_pred = clf.predict(X_test)\n",
        "\n",
        "# Evaluate performance\n",
        "accuracy = accuracy_score(y_test, y_pred)\n",
        "print(f\"Model Accuracy: {accuracy:.2f}\")"
      ]
    },
    {
      "cell_type": "markdown",
      "source": [
        "## Vectorization using TF-IDF"
      ],
      "metadata": {
        "id": "oQsuDNFVNwyY"
      },
      "id": "oQsuDNFVNwyY"
    },
    {
      "cell_type": "code",
      "source": [
        "tfidf_vectorizer = TfidfVectorizer()\n",
        "resume_tfidf = tfidf_vectorizer.fit_transform(resume_texts)\n",
        "jd_tfidf = tfidf_vectorizer.fit_transform(jd_texts)"
      ],
      "metadata": {
        "id": "BA0ueOkjNz1x"
      },
      "id": "BA0ueOkjNz1x",
      "execution_count": null,
      "outputs": []
    },
    {
      "cell_type": "code",
      "source": [
        "X = hstack((resume_tfidf, jd_tfidf)).toarray()\n",
        "y = resume_match_df['label'].values"
      ],
      "metadata": {
        "id": "40tzRpt2O2Gu"
      },
      "id": "40tzRpt2O2Gu",
      "execution_count": null,
      "outputs": []
    },
    {
      "cell_type": "code",
      "source": [
        "model_validation(X, y, folds=10)"
      ],
      "metadata": {
        "id": "FBLIdbkEPAf1",
        "outputId": "f7aaff48-139e-426d-900a-ad0a7f092f31",
        "colab": {
          "base_uri": "https://localhost:8080/",
          "height": 548
        }
      },
      "id": "FBLIdbkEPAf1",
      "execution_count": null,
      "outputs": [
        {
          "output_type": "stream",
          "name": "stderr",
          "text": [
            "100%|██████████| 5/5 [20:20<00:00, 244.00s/it]\n",
            "<ipython-input-13-0c08bdfe2a30>:16: MatplotlibDeprecationWarning: The 'labels' parameter of boxplot() has been renamed 'tick_labels' since Matplotlib 3.9; support for the old name will be dropped in 3.11.\n",
            "  plt.boxplot(list(model_performance.values()), labels=list(model_performance.keys()))\n"
          ]
        },
        {
          "output_type": "display_data",
          "data": {
            "text/plain": [
              "<Figure size 1200x600 with 1 Axes>"
            ],
            "image/png": "[encoded data removed]"
          },
          "metadata": {}
        }
      ]
    },
    {
      "cell_type": "code",
      "source": [
        "# Train-Test Split\n",
        "X_train, X_test, y_train, y_test = train_test_split(X, y, test_size=0.2, random_state=42)\n",
        "\n",
        "# Train Classifier\n",
        "clf = RandomForestClassifier()\n",
        "clf.fit(X_train, y_train)\n",
        "\n",
        "# Predictions\n",
        "y_pred = clf.predict(X_test)\n",
        "\n",
        "# Evaluate performance\n",
        "accuracy = accuracy_score(y_test, y_pred)\n",
        "print(f\"Model Accuracy: {accuracy:.2f}\")"
      ],
      "metadata": {
        "id": "K_bTK16uO4yl",
        "outputId": "fc87c4e1-3908-4bbf-f6ce-fbb8494a7f05",
        "colab": {
          "base_uri": "https://localhost:8080/"
        }
      },
      "id": "K_bTK16uO4yl",
      "execution_count": null,
      "outputs": [
        {
          "output_type": "stream",
          "name": "stdout",
          "text": [
            "Model Accuracy: 0.64\n"
          ]
        }
      ]
    },
    {
      "cell_type": "markdown",
      "source": [
        "### TF-IDF Cosine Similarity Evaluation"
      ],
      "metadata": {
        "id": "VGdR-_6g79AZ"
      },
      "id": "VGdR-_6g79AZ"
    },
    {
      "cell_type": "markdown",
      "source": [
        "We combine resume and JD text together because cosine similarity compares vectors of the same dimension"
      ],
      "metadata": {
        "id": "kCxHgsxR-1fN"
      },
      "id": "kCxHgsxR-1fN"
    },
    {
      "cell_type": "code",
      "source": [
        "tfidf_matrix = tfidf_vectorizer.fit_transform(corpus)\n",
        "\n",
        "# split back to resume and jd matrices\n",
        "cos_sim_resume_tfidf = tfidf_matrix[:len(resume_texts)]\n",
        "cos_sim_jd_tfidf = tfidf_matrix[len(resume_texts):]\n",
        "\n",
        "similarity_scores = [cosine_similarity(cos_sim_resume_tfidf[i], cos_sim_jd_tfidf[i])[0][0] for i in range(len(resume_tfidf.toarray()))]"
      ],
      "metadata": {
        "id": "IQNNKGRc8Bfn"
      },
      "id": "IQNNKGRc8Bfn",
      "execution_count": null,
      "outputs": []
    },
    {
      "cell_type": "code",
      "source": [
        "def classify_similarity_scores(scores):\n",
        "  similarity_scores = []\n",
        "  for score in scores:\n",
        "    if score >= 0.2:\n",
        "      similarity_scores.append(\"Good Fit\")\n",
        "    elif score >= 0.1 and score < 0.2:\n",
        "      similarity_scores.append(\"Potential Fit\")\n",
        "    elif score < 0.1:\n",
        "      similarity_scores.append(\"No Fit\")\n",
        "\n",
        "  predictions = pd.DataFrame(similarity_scores)\n",
        "\n",
        "  return predictions\n",
        "\n",
        "cos_sim_pred = classify_similarity_scores(similarity_scores)"
      ],
      "metadata": {
        "id": "2AojnVrUCz_W"
      },
      "id": "2AojnVrUCz_W",
      "execution_count": null,
      "outputs": []
    },
    {
      "cell_type": "code",
      "source": [
        "# Evaluate Model\n",
        "accuracy = accuracy_score(y, cos_sim_pred)\n",
        "print(f\"Model Accuracy: {accuracy:.2f}\")"
      ],
      "metadata": {
        "id": "UqZtPrmlGb0v",
        "outputId": "aa014fd2-5eb3-4e02-a55b-1b20e5ff24c0",
        "colab": {
          "base_uri": "https://localhost:8080/"
        }
      },
      "id": "UqZtPrmlGb0v",
      "execution_count": null,
      "outputs": [
        {
          "output_type": "stream",
          "name": "stdout",
          "text": [
            "Model Accuracy: 0.49\n"
          ]
        }
      ]
    },
    {
      "cell_type": "code",
      "source": [
        "y_df = pd.DataFrame(y)\n",
        "no_fit_actual = y_df.loc[y_df[0] == \"No Fit\"].count()[0]\n",
        "pot_fit_actual = y_df.loc[y_df[0] == \"Potential Fit\"].count()[0]\n",
        "good_fit_actual = y_df.loc[y_df[0] == \"Good Fit\"].count()[0]\n",
        "no_fit_pred = cos_sim_pred.loc[cos_sim_pred[0] == \"No Fit\"].count()[0]\n",
        "pot_fit_pred = cos_sim_pred.loc[cos_sim_pred[0] == \"Potential Fit\"].count()[0]\n",
        "good_fit_pred = cos_sim_pred.loc[cos_sim_pred[0] == \"Good Fit\"].count()[0]\n",
        "print(f\"Good Fit Predictions Count:{good_fit_pred}...Good Fit Actual Count:{good_fit_actual}\")\n",
        "print(f\"Potential Fit Predictions Count:{pot_fit_pred}...Potential Fit Actual Count:{pot_fit_actual}\")\n",
        "print(f\"Not Fit Predictions Count:{no_fit_pred}...Not Fit Actual Count:{no_fit_actual}\")"
      ],
      "metadata": {
        "id": "86BmT8kae3UT",
        "outputId": "8454da8e-e324-486d-bde0-d9b36e57b418",
        "colab": {
          "base_uri": "https://localhost:8080/"
        }
      },
      "id": "86BmT8kae3UT",
      "execution_count": null,
      "outputs": [
        {
          "output_type": "stream",
          "name": "stdout",
          "text": [
            "Good Fit Predictions Count:104...Good Fit Actual Count:486\n",
            "Potential Fit Predictions Count:458...Potential Fit Actual Count:512\n",
            "Not Fit Predictions Count:1438...Not Fit Actual Count:1002\n"
          ]
        }
      ]
    },
    {
      "cell_type": "markdown",
      "source": [
        "## Vectorization using word embeddings (Word2Vec)"
      ],
      "metadata": {
        "id": "oouMdJ-MUZYF"
      },
      "id": "oouMdJ-MUZYF"
    },
    {
      "cell_type": "code",
      "source": [
        "# Combine preprocessed resume and JD tokens for training Word2Vec\n",
        "all_tokens = preprocessed_resume_text + preprocessed_jd_text\n",
        "\n",
        "# Train a Word2Vec model\n",
        "word2vec_model = Word2Vec(sentences=all_tokens, vector_size=100, window=5, min_count=1, workers=4)\n",
        "\n",
        "# Function to get the average Word2Vec vector for a document\n",
        "def get_vector(tokens, model):\n",
        "    vectors = [model.wv[word] for word in tokens if word in model.wv]\n",
        "    return np.mean(vectors, axis=0) if vectors else model.vector_size\n",
        "\n",
        "# Convert resumes & JDs into numerical vectors\n",
        "resume_vectors = np.array([get_vector(tokens, word2vec_model) for tokens in preprocessed_resume_text])\n",
        "jd_vectors = np.array([get_vector(tokens, word2vec_model) for tokens in preprocessed_jd_text])\n",
        "\n",
        "X = np.hstack((resume_vectors, jd_vectors))\n",
        "y = resume_match_df['label'].values"
      ],
      "metadata": {
        "id": "4kRw15uyUeMt"
      },
      "id": "4kRw15uyUeMt",
      "execution_count": null,
      "outputs": []
    },
    {
      "cell_type": "code",
      "source": [
        "model_validation(X, y, folds=10)"
      ],
      "metadata": {
        "id": "5kBfFU05VF21",
        "outputId": "55b2e506-86d5-4c19-f089-86fc7414c105",
        "colab": {
          "base_uri": "https://localhost:8080/",
          "height": 552
        }
      },
      "id": "5kBfFU05VF21",
      "execution_count": null,
      "outputs": [
        {
          "output_type": "stream",
          "name": "stderr",
          "text": [
            "100%|██████████| 5/5 [00:28<00:00,  5.77s/it]\n",
            "<ipython-input-13-0c08bdfe2a30>:16: MatplotlibDeprecationWarning: The 'labels' parameter of boxplot() has been renamed 'tick_labels' since Matplotlib 3.9; support for the old name will be dropped in 3.11.\n",
            "  plt.boxplot(list(model_performance.values()), labels=list(model_performance.keys()))\n"
          ]
        },
        {
          "output_type": "display_data",
          "data": {
            "text/plain": [
              "<Figure size 1200x600 with 1 Axes>"
            ],
            "image/png": "[encoded data removed]"
          },
          "metadata": {}
        }
      ]
    },
    {
      "cell_type": "markdown",
      "source": [
        "### Classification using the best performing classifier"
      ],
      "metadata": {
        "id": "lIvw9mNwYVnA"
      },
      "id": "lIvw9mNwYVnA"
    },
    {
      "cell_type": "code",
      "source": [
        "# Train-Test Split\n",
        "X_train, X_test, y_train, y_test = train_test_split(X, y, test_size=0.2, random_state=42)\n",
        "\n",
        "# Train Classifier\n",
        "clf = RandomForestClassifier()\n",
        "clf.fit(X_train, y_train)\n",
        "\n",
        "# Predictions\n",
        "y_pred = clf.predict(X_test)\n",
        "\n",
        "# Evaluate Model\n",
        "accuracy = accuracy_score(y_test, y_pred)\n",
        "print(f\"Model Accuracy: {accuracy:.2f}\")"
      ],
      "metadata": {
        "id": "WSptKqp4VE61",
        "outputId": "4b932268-f87b-462c-84b2-f6aff70471f0",
        "colab": {
          "base_uri": "https://localhost:8080/"
        }
      },
      "id": "WSptKqp4VE61",
      "execution_count": null,
      "outputs": [
        {
          "output_type": "stream",
          "name": "stdout",
          "text": [
            "Model Accuracy: 0.67\n"
          ]
        }
      ]
    },
    {
      "cell_type": "markdown",
      "source": [
        "#### Word2Vec Cosine Similarity Evaluation"
      ],
      "metadata": {
        "id": "82qm_DjYYoLx"
      },
      "id": "82qm_DjYYoLx"
    },
    {
      "cell_type": "code",
      "source": [
        "similarity_scores_w2v = [cosine_similarity([cos_sim_resume_w2v], [cos_sim_jd_w2v])[0][0] for cos_sim_resume_w2v, cos_sim_jd_w2v in zip(resume_vectors, jd_vectors)]"
      ],
      "metadata": {
        "id": "el9DQ-_nVMmL"
      },
      "id": "el9DQ-_nVMmL",
      "execution_count": null,
      "outputs": []
    },
    {
      "cell_type": "code",
      "source": [
        "cos_sim_pred_w2v = classify_similarity_scores(similarity_scores_w2v)"
      ],
      "metadata": {
        "id": "MLK5F-ABdSaN"
      },
      "id": "MLK5F-ABdSaN",
      "execution_count": null,
      "outputs": []
    },
    {
      "cell_type": "code",
      "source": [
        "# Evaluate Model\n",
        "accuracy = accuracy_score(y, cos_sim_pred_w2v)\n",
        "print(f\"Model Accuracy: {accuracy:.2f}\")"
      ],
      "metadata": {
        "id": "K1XXi7fMdjGk",
        "colab": {
          "base_uri": "https://localhost:8080/"
        },
        "outputId": "401541b8-8594-44a1-f876-7798eab26d4f"
      },
      "id": "K1XXi7fMdjGk",
      "execution_count": null,
      "outputs": [
        {
          "output_type": "stream",
          "name": "stdout",
          "text": [
            "Model Accuracy: 0.24\n"
          ]
        }
      ]
    },
    {
      "cell_type": "markdown",
      "source": [
        "### Using Neural Network with word embeddings (Word2Vec & PyTorch)"
      ],
      "metadata": {
        "id": "_esNKA6LH-cj"
      },
      "id": "_esNKA6LH-cj"
    },
    {
      "cell_type": "code",
      "source": [
        "# Combine resume and JD vectors into single vectors\n",
        "X = np.concatenate([resume_vectors, jd_vectors], axis=1)\n",
        "\n",
        "# Encode labels and convert the features and labels to tensors\n",
        "label_encoder = LabelEncoder()\n",
        "y_encoded = label_encoder.fit_transform(y)\n",
        "y_tensor = torch.tensor(y_encoded, dtype=torch.long)\n",
        "X_tensor = torch.tensor(X, dtype=torch.float32)\n",
        "\n",
        "# Train-test split\n",
        "X_train, X_test, y_train, y_test = train_test_split(X_tensor, y_tensor, test_size=0.2, random_state=42)"
      ],
      "metadata": {
        "id": "4FkAQ0bOH9L3"
      },
      "id": "4FkAQ0bOH9L3",
      "execution_count": null,
      "outputs": []
    },
    {
      "cell_type": "code",
      "source": [
        "input_dimension = X.shape[1]\n",
        "hidden_layers = 128\n",
        "output_dimension = len(np.unique(y_encoded))\n",
        "\n",
        "# Hyperparameter initialization\n",
        "learning_rate = 0.01\n",
        "epochs = 20\n",
        "batch_size = 32"
      ],
      "metadata": {
        "id": "Du8QZshrKJnq"
      },
      "id": "Du8QZshrKJnq",
      "execution_count": null,
      "outputs": []
    },
    {
      "cell_type": "code",
      "source": [
        "# Randomly initialize weights and biases\n",
        "W1 = torch.randn(input_dimension, hidden_layers, requires_grad=True)\n",
        "W1.data *= 0.01\n",
        "\n",
        "b1 = torch.zeros(hidden_layers, requires_grad=True)\n",
        "\n",
        "W2 = torch.randn(hidden_layers, output_dimension, requires_grad=True)\n",
        "W2.data *= 0.01\n",
        "\n",
        "b2 = torch.zeros(output_dimension, requires_grad=True)\n",
        "\n",
        "optimizer = torch.optim.Adam([W1, b1, W2, b2], lr=learning_rate)\n",
        "criterion = torch.nn.CrossEntropyLoss()"
      ],
      "metadata": {
        "id": "0kWf0PQWKKuS"
      },
      "id": "0kWf0PQWKKuS",
      "execution_count": null,
      "outputs": []
    },
    {
      "cell_type": "code",
      "source": [
        "for epoch in range(epochs):\n",
        "    permutation = torch.randperm(X_train.size(0))  # shuffle\n",
        "\n",
        "    epoch_loss = 0\n",
        "    for i in range(0, X_train.size(0), batch_size):\n",
        "        indices = permutation[i:i+batch_size]\n",
        "        batch_x, batch_y = X_train[indices], y_train[indices]\n",
        "\n",
        "        # Forward pass\n",
        "        z1 = batch_x @ W1 + b1  # Linear\n",
        "        a1 = F.relu(z1)         # Activation\n",
        "        z2 = a1 @ W2 + b2       # Output layer\n",
        "        loss = criterion(z2, batch_y)\n",
        "\n",
        "        # Backpropagation\n",
        "        optimizer.zero_grad()\n",
        "        loss.backward()\n",
        "        optimizer.step()\n",
        "\n",
        "        epoch_loss += loss.item()\n",
        "\n",
        "    print(f\"Epoch {epoch+1}/{epochs} - Loss: {epoch_loss:.4f}\")"
      ],
      "metadata": {
        "colab": {
          "base_uri": "https://localhost:8080/"
        },
        "id": "GDRNuoRYK5V-",
        "outputId": "2dbfe59e-c124-4068-81e2-cd60977f1396"
      },
      "id": "GDRNuoRYK5V-",
      "execution_count": null,
      "outputs": [
        {
          "output_type": "stream",
          "name": "stdout",
          "text": [
            "Epoch 1/60 - Loss: 52.7623\n",
            "Epoch 2/60 - Loss: 50.3624\n",
            "Epoch 3/60 - Loss: 48.6046\n",
            "Epoch 4/60 - Loss: 46.9989\n",
            "Epoch 5/60 - Loss: 44.8690\n",
            "Epoch 6/60 - Loss: 43.0920\n",
            "Epoch 7/60 - Loss: 42.6401\n",
            "Epoch 8/60 - Loss: 41.3129\n",
            "Epoch 9/60 - Loss: 41.3397\n",
            "Epoch 10/60 - Loss: 39.1878\n",
            "Epoch 11/60 - Loss: 38.2705\n",
            "Epoch 12/60 - Loss: 37.3073\n",
            "Epoch 13/60 - Loss: 37.7459\n",
            "Epoch 14/60 - Loss: 36.1283\n",
            "Epoch 15/60 - Loss: 35.6265\n",
            "Epoch 16/60 - Loss: 36.0411\n",
            "Epoch 17/60 - Loss: 35.0386\n",
            "Epoch 18/60 - Loss: 33.3978\n",
            "Epoch 19/60 - Loss: 33.6024\n",
            "Epoch 20/60 - Loss: 32.6024\n",
            "Epoch 21/60 - Loss: 32.5360\n",
            "Epoch 22/60 - Loss: 30.2754\n",
            "Epoch 23/60 - Loss: 30.7425\n",
            "Epoch 24/60 - Loss: 30.0807\n",
            "Epoch 25/60 - Loss: 30.7486\n",
            "Epoch 26/60 - Loss: 30.6070\n",
            "Epoch 27/60 - Loss: 29.1071\n",
            "Epoch 28/60 - Loss: 29.1197\n",
            "Epoch 29/60 - Loss: 28.3839\n",
            "Epoch 30/60 - Loss: 28.2061\n",
            "Epoch 31/60 - Loss: 30.3614\n",
            "Epoch 32/60 - Loss: 28.2078\n",
            "Epoch 33/60 - Loss: 26.9141\n",
            "Epoch 34/60 - Loss: 26.8020\n",
            "Epoch 35/60 - Loss: 26.1286\n",
            "Epoch 36/60 - Loss: 26.5330\n",
            "Epoch 37/60 - Loss: 25.9361\n",
            "Epoch 38/60 - Loss: 24.4661\n",
            "Epoch 39/60 - Loss: 24.3009\n",
            "Epoch 40/60 - Loss: 24.3313\n",
            "Epoch 41/60 - Loss: 25.0797\n",
            "Epoch 42/60 - Loss: 25.3424\n",
            "Epoch 43/60 - Loss: 26.5175\n",
            "Epoch 44/60 - Loss: 25.8652\n",
            "Epoch 45/60 - Loss: 23.8186\n",
            "Epoch 46/60 - Loss: 23.8165\n",
            "Epoch 47/60 - Loss: 22.8771\n",
            "Epoch 48/60 - Loss: 22.5275\n",
            "Epoch 49/60 - Loss: 23.4596\n",
            "Epoch 50/60 - Loss: 22.5097\n",
            "Epoch 51/60 - Loss: 23.8718\n",
            "Epoch 52/60 - Loss: 22.5715\n",
            "Epoch 53/60 - Loss: 22.9397\n",
            "Epoch 54/60 - Loss: 21.5902\n",
            "Epoch 55/60 - Loss: 23.0582\n",
            "Epoch 56/60 - Loss: 21.6988\n",
            "Epoch 57/60 - Loss: 20.6250\n",
            "Epoch 58/60 - Loss: 19.9175\n",
            "Epoch 59/60 - Loss: 24.4459\n",
            "Epoch 60/60 - Loss: 22.3969\n"
          ]
        }
      ]
    },
    {
      "cell_type": "code",
      "source": [
        "with torch.no_grad():\n",
        "    z1 = X_test @ W1 + b1\n",
        "    a1 = F.relu(z1)\n",
        "    z2 = a1 @ W2 + b2\n",
        "    predictions = torch.argmax(z2, dim=1)\n",
        "\n",
        "    accuracy = (predictions == y_test).float().mean()\n",
        "    print(f\"\\nTest Accuracy: {accuracy:.4f}\")"
      ],
      "metadata": {
        "colab": {
          "base_uri": "https://localhost:8080/"
        },
        "id": "-Cjune9NK8mk",
        "outputId": "25e28b53-f573-4d88-d099-2056ece34d3a"
      },
      "id": "-Cjune9NK8mk",
      "execution_count": null,
      "outputs": [
        {
          "output_type": "stream",
          "name": "stdout",
          "text": [
            "\n",
            "Test Accuracy: 0.6075\n"
          ]
        }
      ]
    },
    {
      "cell_type": "markdown",
      "source": [
        "### Using DISTILBERT Pretrained model"
      ],
      "metadata": {
        "id": "jNntLpEzeXdh"
      },
      "id": "jNntLpEzeXdh"
    },
    {
      "cell_type": "code",
      "source": [
        "!pip install numpy==1.24.4 --force-reinstall"
      ],
      "metadata": {
        "id": "CfBGsOFRlU-A"
      },
      "id": "CfBGsOFRlU-A",
      "execution_count": null,
      "outputs": []
    },
    {
      "cell_type": "code",
      "source": [
        "from transformers import DistilBertTokenizer, DistilBertForSequenceClassification, get_scheduler\n",
        "from torch.optim import AdamW\n",
        "from torch.utils.data import DataLoader, TensorDataset, RandomSampler, SequentialSampler"
      ],
      "metadata": {
        "id": "e1TPcroplPBO"
      },
      "id": "e1TPcroplPBO",
      "execution_count": null,
      "outputs": []
    },
    {
      "cell_type": "code",
      "source": [
        "# Convert label to numeric\n",
        "resume_match_df['label'] = resume_match_df['label'].map({'No Fit': 0, 'Potential Fit': 1, 'Good Fit': 2})\n",
        "\n",
        "# Convert into list of sentence pairs\n",
        "texts = list(zip(resume_match_df['resume_text'], resume_match_df['job_description_text']))\n",
        "labels = resume_match_df['label'].tolist()"
      ],
      "metadata": {
        "colab": {
          "base_uri": "https://localhost:8080/"
        },
        "id": "pTnhJceIYphZ",
        "outputId": "be685b58-6dfa-492c-8184-f8f128e96dc9"
      },
      "id": "pTnhJceIYphZ",
      "execution_count": null,
      "outputs": [
        {
          "output_type": "stream",
          "name": "stdout",
          "text": [
            "Requirement already satisfied: ktrain in /usr/local/lib/python3.11/dist-packages (0.23.2)\n",
            "Requirement already satisfied: scikit-learn>=0.21.3 in /usr/local/lib/python3.11/dist-packages (from ktrain) (1.6.1)\n",
            "Requirement already satisfied: matplotlib>=3.0.0 in /usr/local/lib/python3.11/dist-packages (from ktrain) (3.10.0)\n",
            "Requirement already satisfied: pandas>=1.0.1 in /usr/local/lib/python3.11/dist-packages (from ktrain) (2.2.2)\n",
            "Requirement already satisfied: fastprogress>=0.1.21 in /usr/local/lib/python3.11/dist-packages (from ktrain) (1.0.3)\n",
            "Requirement already satisfied: keras-bert>=0.86.0 in /usr/local/lib/python3.11/dist-packages (from ktrain) (0.89.0)\n",
            "Requirement already satisfied: requests in /usr/local/lib/python3.11/dist-packages (from ktrain) (2.32.3)\n",
            "Requirement already satisfied: joblib in /usr/local/lib/python3.11/dist-packages (from ktrain) (1.4.2)\n",
            "Requirement already satisfied: langdetect in /usr/local/lib/python3.11/dist-packages (from ktrain) (1.0.9)\n",
            "Requirement already satisfied: jieba in /usr/local/lib/python3.11/dist-packages (from ktrain) (0.42.1)\n",
            "Requirement already satisfied: cchardet in /usr/local/lib/python3.11/dist-packages (from ktrain) (2.1.7)\n",
            "Requirement already satisfied: networkx>=2.3 in /usr/local/lib/python3.11/dist-packages (from ktrain) (3.4.2)\n",
            "Requirement already satisfied: bokeh in /usr/local/lib/python3.11/dist-packages (from ktrain) (3.6.3)\n",
            "Requirement already satisfied: seqeval==0.0.19 in /usr/local/lib/python3.11/dist-packages (from ktrain) (0.0.19)\n",
            "Requirement already satisfied: packaging in /usr/local/lib/python3.11/dist-packages (from ktrain) (24.2)\n",
            "Requirement already satisfied: transformers>=3.1.0 in /usr/local/lib/python3.11/dist-packages (from ktrain) (4.51.1)\n",
            "Requirement already satisfied: ipython in /usr/local/lib/python3.11/dist-packages (from ktrain) (7.34.0)\n",
            "Requirement already satisfied: syntok in /usr/local/lib/python3.11/dist-packages (from ktrain) (1.4.4)\n",
            "Requirement already satisfied: whoosh in /usr/local/lib/python3.11/dist-packages (from ktrain) (2.7.4)\n",
            "Requirement already satisfied: numpy>=1.14.0 in /usr/local/lib/python3.11/dist-packages (from seqeval==0.0.19->ktrain) (2.0.2)\n",
            "Requirement already satisfied: Keras>=2.2.4 in /usr/local/lib/python3.11/dist-packages (from seqeval==0.0.19->ktrain) (3.8.0)\n",
            "Requirement already satisfied: keras-transformer==0.40.0 in /usr/local/lib/python3.11/dist-packages (from keras-bert>=0.86.0->ktrain) (0.40.0)\n",
            "Requirement already satisfied: keras-pos-embd==0.13.0 in /usr/local/lib/python3.11/dist-packages (from keras-transformer==0.40.0->keras-bert>=0.86.0->ktrain) (0.13.0)\n",
            "Requirement already satisfied: keras-multi-head==0.29.0 in /usr/local/lib/python3.11/dist-packages (from keras-transformer==0.40.0->keras-bert>=0.86.0->ktrain) (0.29.0)\n",
            "Requirement already satisfied: keras-layer-normalization==0.16.0 in /usr/local/lib/python3.11/dist-packages (from keras-transformer==0.40.0->keras-bert>=0.86.0->ktrain) (0.16.0)\n",
            "Requirement already satisfied: keras-position-wise-feed-forward==0.8.0 in /usr/local/lib/python3.11/dist-packages (from keras-transformer==0.40.0->keras-bert>=0.86.0->ktrain) (0.8.0)\n",
            "Requirement already satisfied: keras-embed-sim==0.10.0 in /usr/local/lib/python3.11/dist-packages (from keras-transformer==0.40.0->keras-bert>=0.86.0->ktrain) (0.10.0)\n",
            "Requirement already satisfied: keras-self-attention==0.51.0 in /usr/local/lib/python3.11/dist-packages (from keras-multi-head==0.29.0->keras-transformer==0.40.0->keras-bert>=0.86.0->ktrain) (0.51.0)\n",
            "Requirement already satisfied: contourpy>=1.0.1 in /usr/local/lib/python3.11/dist-packages (from matplotlib>=3.0.0->ktrain) (1.3.1)\n",
            "Requirement already satisfied: cycler>=0.10 in /usr/local/lib/python3.11/dist-packages (from matplotlib>=3.0.0->ktrain) (0.12.1)\n",
            "Requirement already satisfied: fonttools>=4.22.0 in /usr/local/lib/python3.11/dist-packages (from matplotlib>=3.0.0->ktrain) (4.57.0)\n",
            "Requirement already satisfied: kiwisolver>=1.3.1 in /usr/local/lib/python3.11/dist-packages (from matplotlib>=3.0.0->ktrain) (1.4.8)\n",
            "Requirement already satisfied: pillow>=8 in /usr/local/lib/python3.11/dist-packages (from matplotlib>=3.0.0->ktrain) (11.1.0)\n",
            "Requirement already satisfied: pyparsing>=2.3.1 in /usr/local/lib/python3.11/dist-packages (from matplotlib>=3.0.0->ktrain) (3.2.3)\n",
            "Requirement already satisfied: python-dateutil>=2.7 in /usr/local/lib/python3.11/dist-packages (from matplotlib>=3.0.0->ktrain) (2.8.2)\n",
            "Requirement already satisfied: pytz>=2020.1 in /usr/local/lib/python3.11/dist-packages (from pandas>=1.0.1->ktrain) (2025.2)\n",
            "Requirement already satisfied: tzdata>=2022.7 in /usr/local/lib/python3.11/dist-packages (from pandas>=1.0.1->ktrain) (2025.2)\n",
            "Requirement already satisfied: scipy>=1.6.0 in /usr/local/lib/python3.11/dist-packages (from scikit-learn>=0.21.3->ktrain) (1.14.1)\n",
            "Requirement already satisfied: threadpoolctl>=3.1.0 in /usr/local/lib/python3.11/dist-packages (from scikit-learn>=0.21.3->ktrain) (3.6.0)\n",
            "Requirement already satisfied: filelock in /usr/local/lib/python3.11/dist-packages (from transformers>=3.1.0->ktrain) (3.18.0)\n",
            "Requirement already satisfied: huggingface-hub<1.0,>=0.30.0 in /usr/local/lib/python3.11/dist-packages (from transformers>=3.1.0->ktrain) (0.30.2)\n",
            "Requirement already satisfied: pyyaml>=5.1 in /usr/local/lib/python3.11/dist-packages (from transformers>=3.1.0->ktrain) (6.0.2)\n",
            "Requirement already satisfied: regex!=2019.12.17 in /usr/local/lib/python3.11/dist-packages (from transformers>=3.1.0->ktrain) (2024.11.6)\n",
            "Requirement already satisfied: tokenizers<0.22,>=0.21 in /usr/local/lib/python3.11/dist-packages (from transformers>=3.1.0->ktrain) (0.21.1)\n",
            "Requirement already satisfied: safetensors>=0.4.3 in /usr/local/lib/python3.11/dist-packages (from transformers>=3.1.0->ktrain) (0.5.3)\n",
            "Requirement already satisfied: tqdm>=4.27 in /usr/local/lib/python3.11/dist-packages (from transformers>=3.1.0->ktrain) (4.67.1)\n",
            "Requirement already satisfied: Jinja2>=2.9 in /usr/local/lib/python3.11/dist-packages (from bokeh->ktrain) (3.1.6)\n",
            "Requirement already satisfied: tornado>=6.2 in /usr/local/lib/python3.11/dist-packages (from bokeh->ktrain) (6.4.2)\n",
            "Requirement already satisfied: xyzservices>=2021.09.1 in /usr/local/lib/python3.11/dist-packages (from bokeh->ktrain) (2025.1.0)\n",
            "Requirement already satisfied: setuptools>=18.5 in /usr/local/lib/python3.11/dist-packages (from ipython->ktrain) (75.2.0)\n",
            "Requirement already satisfied: jedi>=0.16 in /usr/local/lib/python3.11/dist-packages (from ipython->ktrain) (0.19.2)\n",
            "Requirement already satisfied: decorator in /usr/local/lib/python3.11/dist-packages (from ipython->ktrain) (4.4.2)\n",
            "Requirement already satisfied: pickleshare in /usr/local/lib/python3.11/dist-packages (from ipython->ktrain) (0.7.5)\n",
            "Requirement already satisfied: traitlets>=4.2 in /usr/local/lib/python3.11/dist-packages (from ipython->ktrain) (5.7.1)\n",
            "Requirement already satisfied: prompt-toolkit!=3.0.0,!=3.0.1,<3.1.0,>=2.0.0 in /usr/local/lib/python3.11/dist-packages (from ipython->ktrain) (3.0.50)\n",
            "Requirement already satisfied: pygments in /usr/local/lib/python3.11/dist-packages (from ipython->ktrain) (2.18.0)\n",
            "Requirement already satisfied: backcall in /usr/local/lib/python3.11/dist-packages (from ipython->ktrain) (0.2.0)\n",
            "Requirement already satisfied: matplotlib-inline in /usr/local/lib/python3.11/dist-packages (from ipython->ktrain) (0.1.7)\n",
            "Requirement already satisfied: pexpect>4.3 in /usr/local/lib/python3.11/dist-packages (from ipython->ktrain) (4.9.0)\n",
            "Requirement already satisfied: six in /usr/local/lib/python3.11/dist-packages (from langdetect->ktrain) (1.17.0)\n",
            "Requirement already satisfied: charset-normalizer<4,>=2 in /usr/local/lib/python3.11/dist-packages (from requests->ktrain) (3.4.1)\n",
            "Requirement already satisfied: idna<4,>=2.5 in /usr/local/lib/python3.11/dist-packages (from requests->ktrain) (3.10)\n",
            "Requirement already satisfied: urllib3<3,>=1.21.1 in /usr/local/lib/python3.11/dist-packages (from requests->ktrain) (2.3.0)\n",
            "Requirement already satisfied: certifi>=2017.4.17 in /usr/local/lib/python3.11/dist-packages (from requests->ktrain) (2025.1.31)\n",
            "Requirement already satisfied: fsspec>=2023.5.0 in /usr/local/lib/python3.11/dist-packages (from huggingface-hub<1.0,>=0.30.0->transformers>=3.1.0->ktrain) (2025.3.2)\n",
            "Requirement already satisfied: typing-extensions>=3.7.4.3 in /usr/local/lib/python3.11/dist-packages (from huggingface-hub<1.0,>=0.30.0->transformers>=3.1.0->ktrain) (4.13.1)\n",
            "Requirement already satisfied: parso<0.9.0,>=0.8.4 in /usr/local/lib/python3.11/dist-packages (from jedi>=0.16->ipython->ktrain) (0.8.4)\n",
            "Requirement already satisfied: MarkupSafe>=2.0 in /usr/local/lib/python3.11/dist-packages (from Jinja2>=2.9->bokeh->ktrain) (3.0.2)\n",
            "Requirement already satisfied: absl-py in /usr/local/lib/python3.11/dist-packages (from Keras>=2.2.4->seqeval==0.0.19->ktrain) (1.4.0)\n",
            "Requirement already satisfied: rich in /usr/local/lib/python3.11/dist-packages (from Keras>=2.2.4->seqeval==0.0.19->ktrain) (13.9.4)\n",
            "Requirement already satisfied: namex in /usr/local/lib/python3.11/dist-packages (from Keras>=2.2.4->seqeval==0.0.19->ktrain) (0.0.8)\n",
            "Requirement already satisfied: h5py in /usr/local/lib/python3.11/dist-packages (from Keras>=2.2.4->seqeval==0.0.19->ktrain) (3.13.0)\n",
            "Requirement already satisfied: optree in /usr/local/lib/python3.11/dist-packages (from Keras>=2.2.4->seqeval==0.0.19->ktrain) (0.15.0)\n",
            "Requirement already satisfied: ml-dtypes in /usr/local/lib/python3.11/dist-packages (from Keras>=2.2.4->seqeval==0.0.19->ktrain) (0.4.1)\n",
            "Requirement already satisfied: ptyprocess>=0.5 in /usr/local/lib/python3.11/dist-packages (from pexpect>4.3->ipython->ktrain) (0.7.0)\n",
            "Requirement already satisfied: wcwidth in /usr/local/lib/python3.11/dist-packages (from prompt-toolkit!=3.0.0,!=3.0.1,<3.1.0,>=2.0.0->ipython->ktrain) (0.2.13)\n",
            "Requirement already satisfied: markdown-it-py>=2.2.0 in /usr/local/lib/python3.11/dist-packages (from rich->Keras>=2.2.4->seqeval==0.0.19->ktrain) (3.0.0)\n",
            "Requirement already satisfied: mdurl~=0.1 in /usr/local/lib/python3.11/dist-packages (from markdown-it-py>=2.2.0->rich->Keras>=2.2.4->seqeval==0.0.19->ktrain) (0.1.2)\n"
          ]
        }
      ]
    },
    {
      "cell_type": "code",
      "source": [
        "\n",
        "tokenizer = DistilBertTokenizer.from_pretrained('distilbert-base-uncased', num_labels=3)"
      ],
      "metadata": {
        "id": "m_FrHdOves1r"
      },
      "id": "m_FrHdOves1r",
      "execution_count": null,
      "outputs": []
    },
    {
      "cell_type": "code",
      "source": [
        "def tokenize(texts, labels):\n",
        "    encodings = tokenizer.batch_encode_plus(\n",
        "        texts,\n",
        "        padding=True,\n",
        "        truncation=True,\n",
        "        max_length=512,\n",
        "        return_tensors='pt'\n",
        "    )\n",
        "    input_ids = encodings['input_ids']\n",
        "    attention_mask = encodings['attention_mask']\n",
        "    labels_tensor = torch.tensor(labels, dtype=torch.long)\n",
        "    return TensorDataset(input_ids, attention_mask, labels_tensor)"
      ],
      "metadata": {
        "id": "0tsseYk8fZPc",
        "outputId": "ef557650-1bee-45e5-930e-6d4ac160087e",
        "colab": {
          "base_uri": "https://localhost:8080/",
          "height": 299
        }
      },
      "id": "0tsseYk8fZPc",
      "execution_count": null,
      "outputs": [
        {
          "output_type": "error",
          "ename": "NameError",
          "evalue": "name 'Callback' is not defined",
          "traceback": [
            "\u001b[0;31m---------------------------------------------------------------------------\u001b[0m",
            "\u001b[0;31mNameError\u001b[0m                                 Traceback (most recent call last)",
            "\u001b[0;32m<ipython-input-12-d851226d5f91>\u001b[0m in \u001b[0;36m<cell line: 0>\u001b[0;34m()\u001b[0m\n\u001b[0;32m----> 1\u001b[0;31m \u001b[0;32mimport\u001b[0m \u001b[0mktrain\u001b[0m\u001b[0;34m\u001b[0m\u001b[0;34m\u001b[0m\u001b[0m\n\u001b[0m\u001b[1;32m      2\u001b[0m \u001b[0;32mfrom\u001b[0m \u001b[0mktrain\u001b[0m \u001b[0;32mimport\u001b[0m \u001b[0mtext\u001b[0m\u001b[0;34m\u001b[0m\u001b[0;34m\u001b[0m\u001b[0m\n",
            "\u001b[0;32m/usr/local/lib/python3.11/dist-packages/ktrain/__init__.py\u001b[0m in \u001b[0;36m<module>\u001b[0;34m\u001b[0m\n\u001b[1;32m      1\u001b[0m \u001b[0;32mfrom\u001b[0m \u001b[0;34m.\u001b[0m\u001b[0mversion\u001b[0m \u001b[0;32mimport\u001b[0m \u001b[0m__version__\u001b[0m\u001b[0;34m\u001b[0m\u001b[0;34m\u001b[0m\u001b[0m\n\u001b[1;32m      2\u001b[0m \u001b[0;32mfrom\u001b[0m \u001b[0;34m.\u001b[0m \u001b[0;32mimport\u001b[0m \u001b[0mimports\u001b[0m \u001b[0;32mas\u001b[0m \u001b[0mI\u001b[0m\u001b[0;34m\u001b[0m\u001b[0;34m\u001b[0m\u001b[0m\n\u001b[0;32m----> 3\u001b[0;31m \u001b[0;32mfrom\u001b[0m \u001b[0;34m.\u001b[0m\u001b[0mcore\u001b[0m \u001b[0;32mimport\u001b[0m \u001b[0mArrayLearner\u001b[0m\u001b[0;34m,\u001b[0m \u001b[0mGenLearner\u001b[0m\u001b[0;34m,\u001b[0m \u001b[0mget_predictor\u001b[0m\u001b[0;34m,\u001b[0m \u001b[0mload_predictor\u001b[0m\u001b[0;34m,\u001b[0m \u001b[0mrelease_gpu_memory\u001b[0m\u001b[0;34m\u001b[0m\u001b[0;34m\u001b[0m\u001b[0m\n\u001b[0m\u001b[1;32m      4\u001b[0m \u001b[0;32mfrom\u001b[0m \u001b[0;34m.\u001b[0m\u001b[0mvision\u001b[0m\u001b[0;34m.\u001b[0m\u001b[0mlearner\u001b[0m \u001b[0;32mimport\u001b[0m \u001b[0mImageClassLearner\u001b[0m\u001b[0;34m\u001b[0m\u001b[0;34m\u001b[0m\u001b[0m\n\u001b[1;32m      5\u001b[0m \u001b[0;32mfrom\u001b[0m \u001b[0;34m.\u001b[0m\u001b[0mtext\u001b[0m\u001b[0;34m.\u001b[0m\u001b[0mlearner\u001b[0m \u001b[0;32mimport\u001b[0m \u001b[0mBERTTextClassLearner\u001b[0m\u001b[0;34m,\u001b[0m \u001b[0mTransformerTextClassLearner\u001b[0m\u001b[0;34m\u001b[0m\u001b[0;34m\u001b[0m\u001b[0m\n",
            "\u001b[0;32m/usr/local/lib/python3.11/dist-packages/ktrain/core.py\u001b[0m in \u001b[0;36m<module>\u001b[0;34m\u001b[0m\n\u001b[1;32m      1\u001b[0m \u001b[0;32mfrom\u001b[0m \u001b[0;34m.\u001b[0m\u001b[0mimports\u001b[0m \u001b[0;32mimport\u001b[0m \u001b[0;34m*\u001b[0m\u001b[0;34m\u001b[0m\u001b[0;34m\u001b[0m\u001b[0m\n\u001b[1;32m      2\u001b[0m \u001b[0;34m\u001b[0m\u001b[0m\n\u001b[0;32m----> 3\u001b[0;31m \u001b[0;32mfrom\u001b[0m \u001b[0;34m.\u001b[0m\u001b[0mlroptimize\u001b[0m\u001b[0;34m.\u001b[0m\u001b[0msgdr\u001b[0m \u001b[0;32mimport\u001b[0m \u001b[0;34m*\u001b[0m\u001b[0;34m\u001b[0m\u001b[0;34m\u001b[0m\u001b[0m\n\u001b[0m\u001b[1;32m      4\u001b[0m \u001b[0;32mfrom\u001b[0m \u001b[0;34m.\u001b[0m\u001b[0mlroptimize\u001b[0m\u001b[0;34m.\u001b[0m\u001b[0mtriangular\u001b[0m \u001b[0;32mimport\u001b[0m \u001b[0;34m*\u001b[0m\u001b[0;34m\u001b[0m\u001b[0;34m\u001b[0m\u001b[0m\n\u001b[1;32m      5\u001b[0m \u001b[0;32mfrom\u001b[0m \u001b[0;34m.\u001b[0m\u001b[0mlroptimize\u001b[0m\u001b[0;34m.\u001b[0m\u001b[0mlrfinder\u001b[0m \u001b[0;32mimport\u001b[0m \u001b[0;34m*\u001b[0m\u001b[0;34m\u001b[0m\u001b[0;34m\u001b[0m\u001b[0m\n",
            "\u001b[0;32m/usr/local/lib/python3.11/dist-packages/ktrain/lroptimize/sgdr.py\u001b[0m in \u001b[0;36m<module>\u001b[0;34m\u001b[0m\n\u001b[1;32m      1\u001b[0m \u001b[0;32mfrom\u001b[0m \u001b[0;34m.\u001b[0m\u001b[0;34m.\u001b[0m\u001b[0mimports\u001b[0m \u001b[0;32mimport\u001b[0m \u001b[0;34m*\u001b[0m\u001b[0;34m\u001b[0m\u001b[0;34m\u001b[0m\u001b[0m\n\u001b[1;32m      2\u001b[0m \u001b[0;34m\u001b[0m\u001b[0m\n\u001b[0;32m----> 3\u001b[0;31m \u001b[0;32mclass\u001b[0m \u001b[0mSGDRScheduler\u001b[0m\u001b[0;34m(\u001b[0m\u001b[0mCallback\u001b[0m\u001b[0;34m)\u001b[0m\u001b[0;34m:\u001b[0m\u001b[0;34m\u001b[0m\u001b[0;34m\u001b[0m\u001b[0m\n\u001b[0m\u001b[1;32m      4\u001b[0m     '''Cosine annealing learning rate scheduler with periodic restarts.\n\u001b[1;32m      5\u001b[0m     \u001b[0;31m# Usage\u001b[0m\u001b[0;34m\u001b[0m\u001b[0;34m\u001b[0m\u001b[0m\n",
            "\u001b[0;31mNameError\u001b[0m: name 'Callback' is not defined"
          ]
        }
      ]
    },
    {
      "cell_type": "code",
      "source": [
        "# Train-test split\n",
        "X_train, X_test, y_train, y_test = train_test_split(texts, labels, test_size=0.2, random_state=42)\n",
        "train_dataset = tokenize(X_train, y_train)\n",
        "test_dataset = tokenize(X_test, y_test)"
      ],
      "metadata": {
        "id": "xjRE0h-jfgtR"
      },
      "id": "xjRE0h-jfgtR",
      "execution_count": null,
      "outputs": []
    },
    {
      "cell_type": "code",
      "source": [
        "train_loader = DataLoader(train_dataset, sampler=RandomSampler(train_dataset), batch_size=8)\n",
        "test_loader = DataLoader(test_dataset, sampler=SequentialSampler(test_dataset), batch_size=8)"
      ],
      "metadata": {
        "id": "iiIbzIdMiNe9"
      },
      "id": "iiIbzIdMiNe9",
      "execution_count": null,
      "outputs": []
    },
    {
      "cell_type": "code",
      "source": [
        "model = DistilBertForSequenceClassification.from_pretrained('distilbert-base-uncased', num_labels=3)\n",
        "device = torch.device('cuda' if torch.cuda.is_available() else 'cpu')\n",
        "model.to(device)"
      ],
      "metadata": {
        "id": "QMbJFnQMjVmb"
      },
      "id": "QMbJFnQMjVmb",
      "execution_count": null,
      "outputs": []
    },
    {
      "cell_type": "code",
      "source": [
        "optimizer = AdamW(model.parameters(), lr=5e-5)\n",
        "num_training_steps = len(train_loader) * 3  # 3 epochs\n",
        "scheduler = get_scheduler(\"linear\", optimizer=optimizer, num_warmup_steps=0, num_training_steps=num_training_steps)"
      ],
      "metadata": {
        "id": "FQzPqUl9joAE"
      },
      "id": "FQzPqUl9joAE",
      "execution_count": null,
      "outputs": []
    },
    {
      "cell_type": "code",
      "source": [
        "def train_model():\n",
        "    model.train()\n",
        "    for epoch in range(15):\n",
        "        print(f\"\\nEpoch {epoch + 1}\")\n",
        "        loop = tqdm(train_loader)\n",
        "        for batch in loop:\n",
        "            batch = tuple(t.to(device) for t in batch)\n",
        "            input_ids, attention_mask, labels = batch\n",
        "\n",
        "            outputs = model(input_ids, attention_mask=attention_mask, labels=labels)\n",
        "            loss = outputs.loss\n",
        "\n",
        "            loss.backward()\n",
        "            optimizer.step()\n",
        "            scheduler.step()\n",
        "            optimizer.zero_grad()\n",
        "\n",
        "            loop.set_description(f\"Epoch {epoch+1}\")\n",
        "            loop.set_postfix(loss=loss.item())\n",
        "\n",
        "train_model()"
      ],
      "metadata": {
        "id": "kHDmcOIjj6r0"
      },
      "id": "kHDmcOIjj6r0",
      "execution_count": null,
      "outputs": []
    },
    {
      "cell_type": "code",
      "source": [
        "def evaluate_model():\n",
        "    model.eval()\n",
        "    all_preds, all_labels = [], []\n",
        "    with torch.no_grad():\n",
        "        for batch in test_loader:\n",
        "            batch = tuple(t.to(device) for t in batch)\n",
        "            input_ids, attention_mask, labels = batch\n",
        "            outputs = model(input_ids, attention_mask=attention_mask)\n",
        "            preds = torch.argmax(outputs.logits, dim=1)\n",
        "            all_preds.extend(preds.cpu().numpy())\n",
        "            all_labels.extend(labels.cpu().numpy())\n",
        "\n",
        "    print(\"\\nClassification Report:\\n\")\n",
        "    target_names = ['No Fit', 'Potential Fit', 'Good Fit']\n",
        "    print(classification_report(all_labels, all_preds, target_names=target_names))\n",
        "\n",
        "evaluate_model()\n"
      ],
      "metadata": {
        "id": "B2doBcvHkVRR"
      },
      "id": "B2doBcvHkVRR",
      "execution_count": null,
      "outputs": []
    }
  ],
  "metadata": {
    "kernelspec": {
      "display_name": "base",
      "language": "python",
      "name": "base"
    },
    "language_info": {
      "codemirror_mode": {
        "name": "ipython",
        "version": 3
      },
      "file_extension": ".py",
      "mimetype": "text/x-python",
      "name": "python",
      "nbconvert_exporter": "python",
      "pygments_lexer": "ipython3",
      "version": "3.9.12"
    },
    "colab": {
      "provenance": [],
      "gpuType": "T4"
    },
    "accelerator": "GPU"
  },
  "nbformat": 4,
  "nbformat_minor": 5
}