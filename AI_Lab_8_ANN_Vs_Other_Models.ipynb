{
  "nbformat": 4,
  "nbformat_minor": 0,
  "metadata": {
    "colab": {
      "provenance": []
    },
    "kernelspec": {
      "name": "python3",
      "display_name": "Python 3"
    },
    "language_info": {
      "name": "python"
    }
  },
  "cells": [
    {
      "cell_type": "markdown",
      "source": [
        "# Bonus Example"
      ],
      "metadata": {
        "id": "lbk58SqJJFgo"
      }
    },
    {
      "cell_type": "code",
      "source": [
        "import numpy as np\n",
        "import pandas as pd\n",
        "import matplotlib.pyplot as plt\n",
        "import seaborn as sns\n",
        "from sklearn.datasets import load_wine\n",
        "from sklearn.model_selection import train_test_split, GridSearchCV\n",
        "from sklearn.preprocessing import StandardScaler\n",
        "from sklearn.decomposition import PCA\n",
        "from sklearn.ensemble import RandomForestClassifier\n",
        "from sklearn.svm import SVC\n",
        "from sklearn.metrics import accuracy_score, classification_report, confusion_matrix"
      ],
      "metadata": {
        "id": "xGoafSrAG_DL"
      },
      "execution_count": null,
      "outputs": []
    },
    {
      "cell_type": "markdown",
      "source": [
        "This Python script imports essential libraries and modules for data analysis, preprocessing, machine learning, and model evaluation using the Wine dataset.\n",
        "\n",
        "# Data Handling and Visualization:\n",
        "\n",
        "numpy and pandas are used for numerical operations and handling tabular data.\n",
        "\n",
        "matplotlib.pyplot and seaborn are included for visualization, allowing users to plot distributions, feature relationships, and classification results.\n",
        "\n",
        "# Dataset and Preprocessing:\n",
        "\n",
        "load_wine from sklearn.datasets loads the Wine dataset, a well-known classification dataset containing chemical properties of wines.\n",
        "\n",
        "train_test_split is used to split the dataset into training and testing sets.\n",
        "\n",
        "StandardScaler ensures all features have a mean of 0 and variance of 1, improving the performance of machine learning models.\n",
        "\n",
        "# Dimensionality Reduction:\n",
        "\n",
        "PCA (Principal Component Analysis) reduces the dataset’s dimensions while retaining the most important features, aiding in visualization and computation efficiency.\n",
        "\n",
        "# Machine Learning Models:\n",
        "\n",
        "RandomForestClassifier is an ensemble learning method using multiple decision trees to improve classification accuracy.\n",
        "\n",
        "SVC (Support Vector Classifier) is a robust support vector machine (SVM) implementation for classification tasks.\n",
        "\n",
        "GridSearchCV helps optimize model parameters through cross-validation, ensuring the best configuration for SVM.\n",
        "\n",
        "# Performance Evaluation:\n",
        "\n",
        "accuracy_score calculates the overall accuracy of predictions.\n",
        "\n",
        "classification_report provides precision, recall, and F1-score for each class.\n",
        "\n",
        "confusion_matrix helps visualize model performance by showing correctly and incorrectly classified instances."
      ],
      "metadata": {
        "id": "cxo3taPwJHx2"
      }
    },
    {
      "cell_type": "code",
      "source": [
        "# Load dataset\n",
        "data = load_wine()\n",
        "df = pd.DataFrame(data.data, columns=data.feature_names)\n",
        "df['target'] = data.target"
      ],
      "metadata": {
        "id": "rbdKZXEmHCSt"
      },
      "execution_count": null,
      "outputs": []
    },
    {
      "cell_type": "markdown",
      "source": [
        "This code loads the Wine dataset from sklearn.datasets and converts it into a Pandas DataFrame for easier manipulation and analysis.\n",
        "\n",
        "# Loading the Dataset:\n",
        "\n",
        "load_wine() loads the Wine dataset, which contains 13 numerical features representing different chemical properties of wines (e.g., alcohol content, magnesium, flavonoids).\n",
        "\n",
        "The dataset also includes a target variable (data.target), which classifies each wine sample into one of three classes (0, 1, or 2), representing different wine types.\n",
        "\n",
        "# Creating a DataFrame:\n",
        "\n",
        "pd.DataFrame(data.data, columns=data.feature_names) converts the dataset into a structured Pandas DataFrame, making it easier to analyze and visualize.\n",
        "\n",
        "df['target'] = data.target adds the target labels as a new column, allowing us to associate each sample with its respective wine class.\n",
        "\n",
        "This structured approach enables efficient data exploration, preprocessing, and modeling, forming the foundation for machine learning applications."
      ],
      "metadata": {
        "id": "19uWFesfJdUP"
      }
    },
    {
      "cell_type": "code",
      "source": [
        "# Data exploration\n",
        "print(df.describe())\n",
        "print(\"\\nClass Distribution:\")\n",
        "print(df['target'].value_counts())"
      ],
      "metadata": {
        "id": "rrZgwwrcHERv"
      },
      "execution_count": null,
      "outputs": []
    },
    {
      "cell_type": "markdown",
      "source": [
        "This code performs an initial exploratory data analysis (EDA) on the Wine dataset by summarizing its statistical properties and examining the class distribution.\n",
        "\n",
        "# Descriptive Statistics:\n",
        "\n",
        "df.describe() generates key statistical summaries for all numerical features in the dataset.\n",
        "\n",
        "It includes metrics such as mean, standard deviation (std), minimum, maximum, and quartiles (25%, 50%, 75%) for each feature.\n",
        "\n",
        "This helps identify data trends, ranges, and potential outliers.\n",
        "\n",
        "# Class Distribution:\n",
        "\n",
        "df['target'].value_counts() counts the number of samples in each wine class (0, 1, or 2).\n",
        "\n",
        "This check is important to understand whether the dataset is balanced or imbalanced, which may affect model performance.\n",
        "\n",
        "By analyzing this output, we gain insights into the dataset’s structure, enabling better preprocessing, feature selection, and model training strategies."
      ],
      "metadata": {
        "id": "iFq0qap-Jtxe"
      }
    },
    {
      "cell_type": "code",
      "source": [
        "# Data preprocessing\n",
        "X = df.drop(columns=['target'])\n",
        "y = df['target']\n",
        "scaler = StandardScaler()\n",
        "X_scaled = scaler.fit_transform(X)"
      ],
      "metadata": {
        "id": "aJ7FdLxzHIrg"
      },
      "execution_count": null,
      "outputs": []
    },
    {
      "cell_type": "markdown",
      "source": [
        "This code performs data preprocessing to prepare the Wine dataset for machine learning modeling by separating features and target variables, followed by scaling the features.\n",
        "\n",
        "# Feature and Target Separation:\n",
        "\n",
        "    X = df.drop(columns=['target'])\n",
        "creates a feature matrix (X) by removing the target column from the DataFrame. This leaves the numerical features that describe the chemical properties of the wines.\n",
        "\n",
        "    y = df['target']\n",
        "extracts the target variable (y), which contains the class labels (wine types) corresponding to each sample.\n",
        "\n",
        "# Feature Scaling:\n",
        "\n",
        "    scaler = StandardScaler()\n",
        "initializes a StandardScaler object, which is used to normalize the features.\n",
        "\n",
        "    X_scaled = scaler.fit_transform(X)\n",
        "applies the scaling transformation to the feature matrix X, standardizing the features such that they have zero mean and unit variance. This is particularly important for models like SVMs or neural networks, which perform better when the data is normalized.\n",
        "\n",
        "Scaling the data ensures that each feature contributes equally to the model and prevents any feature with a larger range from dominating the learning process."
      ],
      "metadata": {
        "id": "NVbWXYoLJ7gd"
      }
    },
    {
      "cell_type": "code",
      "source": [
        "# Split dataset into training and testing sets\n",
        "X_train, X_test, y_train, y_test = train_test_split(X_scaled, y, test_size=0.2, random_state=42, stratify=y)"
      ],
      "metadata": {
        "id": "HcnY52sMHK2L"
      },
      "execution_count": null,
      "outputs": []
    },
    {
      "cell_type": "markdown",
      "source": [
        "This code splits the preprocessed dataset into training and testing sets, which is a crucial step in evaluating the performance of machine learning models.\n",
        "\n",
        "# Splitting the Data:\n",
        "\n",
        "    train_test_split(X_scaled, y, test_size=0.2, random_state=42, stratify=y)\n",
        "\n",
        "divides the scaled feature matrix X_scaled and the target labels y into two subsets:\n",
        "\n",
        "80% of the data is used for training the model (X_train, y_train).\n",
        "\n",
        "20% of the data is reserved for testing and evaluating the model (X_test, y_test).\n",
        "\n",
        "# Stratified Sampling:\n",
        "\n",
        "    stratify=y\n",
        "ensures that the class distribution in both the training and testing sets is proportional to the original distribution in the full dataset. This is especially important in case of class imbalances, as it ensures the model is trained and evaluated on data that represents the original class distribution.\n",
        "\n",
        "# Random Seed:\n",
        "\n",
        "    random_state=42\n",
        "ensures that the split is reproducible, meaning the same data split will be generated every time the code is run, which is essential for consistency in experiments.\n",
        "\n",
        "This process helps in creating a robust model evaluation setup, where the model is trained on one portion of the data and tested on another, ensuring that the performance metrics are reliable and not biased."
      ],
      "metadata": {
        "id": "sKTZO6SgKSJz"
      }
    },
    {
      "cell_type": "code",
      "source": [
        "# Feature importance using Random Forest\n",
        "rf = RandomForestClassifier(n_estimators=100, random_state=42)\n",
        "rf.fit(X_train, y_train)\n",
        "feature_importances = pd.Series(rf.feature_importances_, index=data.feature_names).sort_values(ascending=False)\n",
        "print(\"\\nFeature Importance:\\n\", feature_importances)"
      ],
      "metadata": {
        "id": "N2yTs5VdHOB5"
      },
      "execution_count": null,
      "outputs": []
    },
    {
      "cell_type": "markdown",
      "source": [
        "This code calculates the feature importance using a Random Forest classifier, which helps identify which features have the most influence on the model's predictions.\n",
        "\n",
        "# Training the Random Forest Classifier:\n",
        "\n",
        "    rf = RandomForestClassifier(n_estimators=100, random_state=42)\n",
        "initializes a Random Forest classifier with 100 trees (n_estimators=100) and a fixed random seed (random_state=42) to ensure reproducibility.\n",
        "\n",
        "    rf.fit(X_train, y_train)\n",
        "trains the Random Forest model on the training data (X_train, y_train), where X_train contains the scaled features and y_train contains the corresponding target labels.\n",
        "\n",
        "# Extracting Feature Importance:\n",
        "\n",
        "    feature_importances = pd.Series(rf.feature_importances_, index=data.feature_names)\n",
        "retrieves the importance scores for each feature from the trained Random Forest model. The feature_importances_ attribute provides a score for each feature, indicating its contribution to the model's decisions.\n",
        "\n",
        "    pd.Series(...).sort_values(ascending=False)\n",
        "\n",
        "converts these scores into a Pandas Series and sorts them in descending order, allowing us to easily identify the most important features.\n",
        "\n",
        "# Displaying Feature Importance:\n",
        "\n",
        "    print(\"\\nFeature Importance:\\n\", feature_importances)\n",
        "\n",
        "prints the sorted feature importance scores, providing insights into which features (e.g., alcohol, magnesium, flavonoids) are the most influential in classifying the wine types.\n",
        "\n",
        "This step is useful for understanding the relative significance of each feature in making predictions, which can inform feature selection and model interpretation."
      ],
      "metadata": {
        "id": "QqV4oRppKm9o"
      }
    },
    {
      "cell_type": "code",
      "source": [
        "# PCA for dimensionality reduction\n",
        "pca = PCA(n_components=2)\n",
        "X_pca = pca.fit_transform(X_scaled)\n",
        "df_pca = pd.DataFrame(X_pca, columns=['PC1', 'PC2'])\n",
        "df_pca['target'] = y\n",
        "sns.scatterplot(x='PC1', y='PC2', hue='target', data=df_pca, palette='Set1')\n",
        "plt.title('PCA Projection of Wine Dataset')\n",
        "plt.show()"
      ],
      "metadata": {
        "colab": {
          "base_uri": "https://localhost:8080/",
          "height": 472
        },
        "id": "2fnzQwH0HQX8",
        "outputId": "97df3d61-94d7-47f2-911a-abcdf2da5bc3"
      },
      "execution_count": null,
      "outputs": [
        {
          "output_type": "display_data",
          "data": {
            "text/plain": [
              "<Figure size 640x480 with 1 Axes>"
            ],
            "image/png": "[encoded data removed]"
          },
          "metadata": {}
        }
      ]
    },
    {
      "cell_type": "markdown",
      "source": [
        "This code applies Principal Component Analysis (PCA) for dimensionality reduction to visualize the Wine dataset in a two-dimensional space.\n",
        "\n",
        "# PCA Initialization and Transformation:\n",
        "\n",
        "    pca = PCA(n_components=2)\n",
        "\n",
        "initializes a PCA object that will reduce the data to two principal components (PC1 and PC2). PCA is a technique used to reduce the number of features in a dataset while retaining as much variance (information) as possible.\n",
        "\n",
        "    X_pca = pca.fit_transform(X_scaled)\n",
        "applies the PCA transformation to the scaled feature matrix (X_scaled), transforming the original high-dimensional data into a 2D representation. The resulting X_pca contains the projections of the data onto the first two principal components.\n",
        "\n",
        "# Creating a DataFrame for PCA Results:\n",
        "\n",
        "# df_pca = pd.DataFrame(X_pca, columns=['PC1', 'PC2'])\n",
        "\n",
        "creates a new Pandas DataFrame with the two principal components (PC1 and PC2) as columns.\n",
        "\n",
        "    df_pca['target'] = y\n",
        "\n",
        "adds the target variable (wine classes) to the PCA DataFrame, allowing for visualization of the data with respect to its class labels.\n",
        "\n",
        "# Visualization:\n",
        "\n",
        "    sns.scatterplot(x='PC1', y='PC2', hue='target', data=df_pca, palette='Set1')\n",
        "\n",
        "uses Seaborn to create a scatter plot, where the x and y axes represent the two principal components (PC1 and PC2), and the points are color-coded based on the wine class (target).\n",
        "\n",
        "    plt.title('PCA Projection of Wine Dataset')\n",
        "\n",
        "adds a title to the plot, and plt.show() displays the scatter plot.\n",
        "\n",
        "This visualization provides a 2D projection of the high-dimensional Wine dataset, helping to understand the structure and separation of different wine classes based on their chemical features. PCA reduces complexity while retaining key patterns in the data, aiding in data exploration and modeling."
      ],
      "metadata": {
        "id": "CYNr6EtSLFOy"
      }
    },
    {
      "cell_type": "code",
      "source": [
        "# Model training and comparison\n",
        "models = {\n",
        "    \"Random Forest\": RandomForestClassifier(n_estimators=100, random_state=42),\n",
        "    \"SVM\": SVC(kernel='linear', C=1.0, random_state=42)\n",
        "}\n",
        "\n",
        "for name, model in models.items():\n",
        "    model.fit(X_train, y_train)\n",
        "    y_pred = model.predict(X_test)\n",
        "    print(f\"\\n{name} Model Performance:\")\n",
        "    print(\"Accuracy:\", accuracy_score(y_test, y_pred))\n",
        "    print(\"Classification Report:\\n\", classification_report(y_test, y_pred))\n",
        "    print(\"Confusion Matrix:\\n\", confusion_matrix(y_test, y_pred))"
      ],
      "metadata": {
        "id": "1d2usDi8He_4"
      },
      "execution_count": null,
      "outputs": []
    },
    {
      "cell_type": "markdown",
      "source": [
        "This code trains and evaluates two different machine learning models—Random Forest and Support Vector Machine (SVM)—and compares their performance on the Wine dataset.\n",
        "\n",
        "# Model Initialization:\n",
        "\n",
        "The models dictionary defines the two models to be evaluated:\n",
        "\n",
        "\"Random Forest\" uses a RandomForestClassifier with 100 trees (n_estimators=100), providing an ensemble approach to classification.\n",
        "\n",
        "\"SVM\" uses a Support Vector Classifier (SVC) with a linear kernel and a regularization parameter C=1.0, aiming to find the optimal decision boundary for class separation.\n",
        "\n",
        "# Training and Evaluation Loop:\n",
        "\n",
        "for name, model in models.items(): iterates through the dictionary of models, training and evaluating each one.\n",
        "\n",
        "model.fit(X_train, y_train) trains each model on the training data (X_train and y_train).\n",
        "\n",
        "y_pred = model.predict(X_test) generates predictions on the test set (X_test) using the trained model.\n",
        "\n",
        "# Performance Metrics:\n",
        "\n",
        "The performance of each model is evaluated using several metrics:\n",
        "\n",
        "Accuracy: accuracy_score(y_test, y_pred) computes the percentage of correct predictions made by the model.\n",
        "\n",
        "Classification Report: classification_report(y_test, y_pred) provides a detailed evaluation of precision, recall, F1-score, and support for each class, offering deeper insights into model performance.\n",
        "\n",
        "Confusion Matrix: confusion_matrix(y_test, y_pred) displays a matrix showing how many samples were correctly or incorrectly classified, helping identify specific misclassifications.\n",
        "\n",
        "By comparing the performance of both models on the Wine dataset, this approach allows us to assess which model provides better classification accuracy and generalization on unseen data, helping make an informed decision about which model to choose for deployment"
      ],
      "metadata": {
        "id": "voasVBbTMQf0"
      }
    },
    {
      "cell_type": "code",
      "execution_count": null,
      "metadata": {
        "id": "UcdTE1IQGzDB"
      },
      "outputs": [],
      "source": [
        "# Hyperparameter tuning for SVM\n",
        "param_grid = {'C': [0.1, 1, 10], 'kernel': ['linear', 'rbf']}\n",
        "grid_search = GridSearchCV(SVC(), param_grid, cv=5, scoring='accuracy')\n",
        "grid_search.fit(X_train, y_train)\n",
        "print(\"\\nBest SVM Parameters:\", grid_search.best_params_)\n",
        "print(\"Best SVM Accuracy:\", grid_search.best_score_)"
      ]
    },
    {
      "cell_type": "markdown",
      "source": [
        "This code performs hyperparameter tuning for a Support Vector Machine (SVM) using GridSearchCV, aiming to find the best combination of hyperparameters that optimize the model's performance.\n",
        "\n",
        "# Hyperparameter Grid:\n",
        "\n",
        "    param_grid = {'C': [0.1, 1, 10], 'kernel': ['linear', 'rbf']}\n",
        "defines a grid of possible hyperparameters to be tested. Specifically, it explores different values for:\n",
        "\n",
        "The regularization parameter (C), which controls the trade-off between achieving a low error on the training set and ensuring a simpler model (lower values favor simplicity, while higher values allow more flexibility).\n",
        "\n",
        "The kernel type (kernel), which defines the function used to map data into a higher-dimensional space. The code tests both the linear kernel and the Radial Basis Function (RBF) kernel.\n",
        "\n",
        "# Grid Search Setup:\n",
        "\n",
        "grid_search = GridSearchCV(SVC(), param_grid, cv=5, scoring='accuracy') initializes a GridSearchCV object, specifying:\n",
        "\n",
        "SVC() as the model to be tuned.\n",
        "\n",
        "param_grid as the set of hyperparameters to explore.\n",
        "\n",
        "cv=5, meaning 5-fold cross-validation will be used to evaluate the model's performance for each hyperparameter combination. This ensures robust model evaluation.\n",
        "\n",
        "scoring='accuracy' to use accuracy as the metric for evaluating model performance.\n",
        "\n",
        "# Model Fitting and Evaluation:\n",
        "\n",
        "grid_search.fit(X_train, y_train) performs the grid search on the training data (X_train, y_train), fitting the SVM model for each combination of hyperparameters and evaluating its performance via cross-validation.\n",
        "\n",
        "Output the Best Parameters and Accuracy:\n",
        "# New Section\n",
        "print(\"\\nBest SVM Parameters:\", grid_search.best_params_) outputs the best combination of hyperparameters found during the search.\n",
        "\n",
        "print(\"Best SVM Accuracy:\", grid_search.best_score_) prints the highest accuracy achieved by the model using the best hyperparameter combination.\n",
        "\n",
        "By using GridSearchCV, this code ensures that the most optimal set of hyperparameters for the SVM is selected, potentially improving the model's performance."
      ],
      "metadata": {
        "id": "4_IQUonJMpoZ"
      }
    },
    {
      "cell_type": "code",
      "source": [
        "!pip install tensorflow"
      ],
      "metadata": {
        "id": "YVKD7SsENAlg"
      },
      "execution_count": null,
      "outputs": []
    },
    {
      "cell_type": "markdown",
      "source": [
        "The command !pip install tensorflow is used to install TensorFlow, an open-source machine learning framework, into the current environment.\n",
        "\n",
        "# TensorFlow Installation:\n",
        "\n",
        "!pip is a command to execute Python's package manager (pip) directly in the shell (often used in Jupyter notebooks or environments where shell commands are allowed).\n",
        "\n",
        "install tensorflow instructs pip to download and install the TensorFlow library, which provides a comprehensive set of tools for building and deploying machine learning models, particularly in the areas of deep learning and neural networks.\n",
        "\n",
        "# Why TensorFlow:\n",
        "\n",
        "TensorFlow is widely used in the research and production environments for developing deep learning models. It supports a wide range of applications from natural language processing (NLP) and computer vision to reinforcement learning, making it a versatile tool for AI development.\n",
        "\n",
        "After running this command, TensorFlow will be available for import and use in Python, allowing users to build and train machine learning models efficiently."
      ],
      "metadata": {
        "id": "WNrIuzDoNIoL"
      }
    },
    {
      "cell_type": "code",
      "source": [
        "import tensorflow as tf\n",
        "from tensorflow.keras.models import Sequential\n",
        "from tensorflow.keras.layers import Dense\n",
        "from sklearn.preprocessing import LabelBinarizer"
      ],
      "metadata": {
        "id": "ftv_vtWCIX-J"
      },
      "execution_count": null,
      "outputs": []
    },
    {
      "cell_type": "markdown",
      "source": [
        "This code imports several components needed for building and training a neural network model using TensorFlow and Keras, along with tools for preprocessing categorical data.\n",
        "\n",
        "# TensorFlow Import:\n",
        "\n",
        "import tensorflow as tf imports the TensorFlow library, which is widely used for creating and training machine learning models, particularly deep learning models. TensorFlow provides various functionalities, including model creation, optimization, and deployment.\n",
        "\n",
        "# Keras Model Import:\n",
        "\n",
        "from tensorflow.keras.models import Sequential imports the Sequential model from Keras, which is a high-level API for building neural networks in TensorFlow. The Sequential model allows you to stack layers of neurons in a linear fashion, making it suitable for simple feedforward neural networks.\n",
        "\n",
        "# Keras Layer Import:\n",
        "\n",
        "from tensorflow.keras.layers import Dense imports the Dense layer from Keras, which is a fully connected layer of neurons. The Dense layer is the most commonly used layer in fully connected neural networks, where each neuron in the layer is connected to every neuron in the previous layer. It requires defining the number of neurons and an activation function.\n",
        "\n",
        "# Label Binarizer Import:\n",
        "\n",
        "from sklearn.preprocessing import LabelBinarizer imports LabelBinarizer from scikit-learn. The LabelBinarizer is used to convert categorical labels (like class names or target variables) into a binary format, such as one-hot encoding. This is particularly useful when dealing with multi-class classification problems, as it transforms labels into a format suitable for neural network training.\n"
      ],
      "metadata": {
        "id": "zAALEtdmNXxB"
      }
    },
    {
      "cell_type": "code",
      "source": [
        "# ANN Model\n",
        "ann_model = Sequential([\n",
        "    Dense(32, activation='relu', input_shape=(X_train.shape[1],)),\n",
        "    Dense(16, activation='relu'),\n",
        "    Dense(3, activation='softmax')\n",
        "])\n",
        "\n",
        "ann_model.compile(optimizer='adam', loss='categorical_crossentropy', metrics=['accuracy'])\n",
        "\n",
        "# Assuming you want to use the same train-test split as before\n",
        "X_train_ann, X_test_ann, y_train_ann, y_test_ann = X_train, X_test, y_train, y_test\n",
        "\n",
        "# One-hot encode the target variables\n",
        "y_train_ann = tf.keras.utils.to_categorical(y_train_ann, num_classes=3)\n",
        "y_test_ann = tf.keras.utils.to_categorical(y_test_ann, num_classes=3)\n",
        "\n",
        "# Train ANN Model\n",
        "ann_model.fit(X_train_ann, y_train_ann, epochs=50, batch_size=8, validation_data=(X_test_ann, y_test_ann), verbose=1)\n",
        "\n",
        "# Evaluate ANN Model\n",
        "y_pred_ann = ann_model.predict(X_test_ann)\n",
        "y_pred_ann_classes = np.argmax(y_pred_ann, axis=1)\n",
        "y_test_ann_classes = np.argmax(y_test_ann, axis=1)\n",
        "\n",
        "print(\"\\nANN Model Performance:\")\n",
        "print(\"Accuracy:\", accuracy_score(y_test_ann_classes, y_pred_ann_classes))\n",
        "print(\"Classification Report:\\n\", classification_report(y_test_ann_classes, y_pred_ann_classes))\n",
        "print(\"Confusion Matrix:\\n\", confusion_matrix(y_test_ann_classes, y_pred_ann_classes))"
      ],
      "metadata": {
        "id": "28D9U_fIIr-h"
      },
      "execution_count": null,
      "outputs": []
    },
    {
      "cell_type": "markdown",
      "source": [
        "# Line 1-6\n",
        "\n",
        "This code defines an Artificial Neural Network (ANN) model using Keras' Sequential API, specifying its architecture and layer configurations.\n",
        "\n",
        "# Model Initialization:\n",
        "\n",
        "ann_model = Sequential([...]) initializes a Sequential model, meaning the layers are stacked one after the other, forming a linear sequence of computations.\n",
        "\n",
        "# First Layer (Input Layer):\n",
        "\n",
        "Dense(32, activation='relu', input_shape=(X_train.shape[1],)) defines a Dense layer with 32 neurons. The input_shape=(X_train.shape[1],) specifies the shape of the input data, where X_train.shape[1] represents the number of features in the training set (each feature corresponds to an input neuron).\n",
        "\n",
        "The activation function used here is ReLU (Rectified Linear Unit), which introduces non-linearity to the model and helps it learn complex patterns. ReLU is commonly used in hidden layers because it performs well in deep networks.\n",
        "\n",
        "# Second Layer (Hidden Layer):\n",
        "\n",
        "Dense(16, activation='relu') adds another Dense layer with 16 neurons, again using the ReLU activation function. This layer introduces additional complexity and helps the model learn more abstract features.\n",
        "\n",
        "# Third Layer (Output Layer):\n",
        "\n",
        "Dense(3, activation='softmax') defines the output layer with 3 neurons, corresponding to the 3 classes in the classification problem (as indicated by the Wine dataset having 3 target classes). The softmax activation function is used here because it converts the output of each neuron into a probability distribution over the classes, ensuring the model outputs values between 0 and 1 that sum to 1, making it suitable for multi-class classification.\n",
        "\n",
        "In summary, the ANN model consists of two hidden layers with 32 and 16 neurons, respectively, using ReLU activation, and an output layer with 3 neurons using softmax activation to perform multi-class classification. This architecture is suitable for the Wine classification task, where the model predicts which of the three wine classes a given input belongs to.\n",
        "\n",
        "\n",
        "# Line 8:\n",
        "\n",
        "The code ann_model.compile(optimizer='adam', loss='categorical_crossentropy', metrics=['accuracy']) configures the training settings for the Artificial Neural Network (ANN) model by specifying the optimizer, loss function, and evaluation metrics.\n",
        "\n",
        "# Optimizer (optimizer='adam'):\n",
        "\n",
        "The optimizer defines how the weights of the model are updated during training to minimize the loss function.\n",
        "\n",
        "Adam (Adaptive Moment Estimation) is used here, which is an efficient and widely used optimizer in deep learning. It combines the advantages of two other optimizers—AdaGrad and RMSProp—by adapting the learning rate based on the first and second moments of the gradients. Adam helps the model converge faster and more effectively, especially in complex neural networks.\n",
        "\n",
        "# Loss Function (loss='categorical_crossentropy'):\n",
        "\n",
        "The loss function defines the objective the model is trying to minimize during training.\n",
        "\n",
        "Categorical Cross-Entropy is used for multi-class classification tasks. It measures the difference between the true class labels and the predicted probabilities (output by the softmax activation in the output layer). The goal is to minimize this loss, which means improving the accuracy of the class predictions.\n",
        "\n",
        "# Metrics (metrics=['accuracy']):\n",
        "\n",
        "The metrics argument specifies which metrics to monitor during training.\n",
        "\n",
        "Accuracy is chosen here, which is the most common metric for classification tasks. It measures the percentage of correct predictions made by the model, providing an overall sense of model performance.\n",
        "\n",
        "Overall, Line 8 prepares the ANN model for training by using the Adam optimizer to adjust the weights, categorical cross-entropy as the loss function for multi-class classification, and accuracy as the metric to track the model’s performance during training.\n",
        "\n",
        "# Line 11:\n",
        "\n",
        "The code X_train_ann, X_test_ann, y_train_ann, y_test_ann = X_train, X_test, y_train, y_test essentially creates identical copies of the original training and testing datasets (X_train, X_test, y_train, y_test) and assigns them to new variables specifically for use in the ANN model.\n",
        "\n",
        "X_train_ann and X_test_ann are the feature matrices (input data) for training and testing the ANN model. They hold the scaled and preprocessed feature data that the neural network will learn from and test on.\n",
        "\n",
        "y_train_ann and y_test_ann are the target labels (class labels) for training and testing, representing the true classes the model is trying to predict.\n",
        "\n",
        "This step might be used for clarity or to distinguish data used specifically for training the ANN model from other potential models or preprocessing steps, but it does not alter the data in any way. The data for the ANN model is exactly the same as the original X_train, X_test, y_train, and y_test.\n",
        "\n",
        "# Line 14 and 15:\n",
        "\n",
        "The code y_train_ann = tf.keras.utils.to_categorical(y_train_ann, num_classes=3) and y_test_ann = tf.keras.utils.to_categorical(y_test_ann, num_classes=3) converts the class labels (y_train_ann and y_test_ann) into one-hot encoded vectors.\n",
        "\n",
        "One-Hot Encoding: For each label in the target array (y_train_ann and y_test_ann), it transforms the labels into a binary vector where only the index corresponding to the class is 1, and all other positions are 0.\n",
        "\n",
        "num_classes=3 specifies that the target data has 3 distinct classes (as in the wine dataset, where there are 3 types of wine).\n",
        "\n",
        "This transformation is required for multi-class classification problems, as it allows the neural network to predict probabilities for each class and compares them with the one-hot encoded labels during training.\n",
        "\n",
        "# Line 18:\n",
        "\n",
        "The code ann_model.fit(X_train_ann, y_train_ann, epochs=50, batch_size=8, validation_data=(X_test_ann, y_test_ann), verbose=1) trains the Artificial Neural Network (ANN) model on the training data for 50 epochs with the following settings:\n",
        "\n",
        "X_train_ann, y_train_ann: These are the feature matrix and target labels for training the model.\n",
        "\n",
        "epochs=50: The model will go through the entire training dataset 50 times during training. Each pass through the data is called an epoch.\n",
        "\n",
        "batch_size=8: The model will update its weights after processing 8 training samples in each mini-batch. Smaller batch sizes often result in better generalization but may take longer to train.\n",
        "\n",
        "validation_data=(X_test_ann, y_test_ann): This specifies the validation dataset (X_test_ann and y_test_ann). The model will evaluate its performance on this data after each epoch to monitor overfitting and generalization.\n",
        "\n",
        "verbose=1: This setting prints the progress of training, including the loss and accuracy after each epoch, so you can track the model's performance.\n",
        "\n",
        "This function is crucial for fitting the model to the data and adjusting its weights during training.\n",
        "\n",
        "# Line 21, 22 and 23:\n",
        "\n",
        "The code:\n",
        "\n",
        "y_pred_ann = ann_model.predict(X_test_ann):\n",
        "\n",
        "This line generates predictions (y_pred_ann) for the test dataset (X_test_ann) using the trained ANN model. The model outputs a probability distribution for each class (since the output layer uses softmax activation).\n",
        "\n",
        "y_pred_ann_classes = np.argmax(y_pred_ann, axis=1):\n",
        "\n",
        "np.argmax(y_pred_ann, axis=1) converts the predicted probabilities into class labels by selecting the class with the highest probability for each sample. This gives the final predicted class for each test sample.\n",
        "\n",
        "y_test_ann_classes = np.argmax(y_test_ann, axis=1):\n",
        "\n",
        "This line does the same transformation for the true labels (y_test_ann), which were one-hot encoded during preprocessing. It converts the one-hot encoded labels back to the original class labels, so they can be compared with the model's predictions.\n",
        "\n",
        "Line 21, 22 and 23 predict the class probabilities for the test set, convert those probabilities into class labels, and also convert the one-hot encoded true labels into class labels for evaluation purposes."
      ],
      "metadata": {
        "id": "Zk_vTg8jN5jL"
      }
    }
  ]
}