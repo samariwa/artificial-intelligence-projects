{
  "cells": [
    {
      "cell_type": "code",
      "execution_count": null,
      "id": "164aba31-71ec-4f76-9fd4-5c28ac489013",
      "metadata": {
        "id": "164aba31-71ec-4f76-9fd4-5c28ac489013",
        "outputId": "4b2b23e2-2ecf-41ac-8249-88e4ce22197b"
      },
      "outputs": [
        {
          "name": "stdout",
          "output_type": "stream",
          "text": [
            "1001,1012,1023,1034,1045,1056,1067,1078,1089,1100,1111,1122,1133,1144,1155,1166,1177,1188,1199,1210,1221,1232,1243,1254,1265,1276,1287,1298,1309,1320,1331,1342,1353,1364,1375,1386,1397,1408,1419,1430,1441,1452,1463,1474,1485,1496,1507,1518,1529,1540,1551,1562,1573,1584,1595,1606,1617,1628,1639,1650,1661,1672,1683,1694,1705,1716,1727,1738,1749,1760,1771,1782,1793,1804,1815,1826,1837,1848,1859,1870,1881,1892,1903,1914,1925,1936,1947,1958,1969,1980,1991\n"
          ]
        }
      ],
      "source": [
        "seq = \"\"\n",
        "for i in range (1000, 2001):\n",
        "    if i % 11 == 0 and 1 % 3 != 0:\n",
        "        seq += str(i) + \",\"\n",
        "print(seq[:-1])"
      ]
    },
    {
      "cell_type": "code",
      "execution_count": 1,
      "id": "9879aa3e-ff7c-4caa-a1b2-7be94c54b618",
      "metadata": {
        "id": "9879aa3e-ff7c-4caa-a1b2-7be94c54b618",
        "outputId": "1760ac0a-e9fd-47d7-f8f2-1989e504da42",
        "colab": {
          "base_uri": "https://localhost:8080/",
          "height": 35
        }
      },
      "outputs": [
        {
          "output_type": "execute_result",
          "data": {
            "text/plain": [
              "'HELLO WORLD'"
            ],
            "application/vnd.google.colaboratory.intrinsic+json": {
              "type": "string"
            }
          },
          "metadata": {},
          "execution_count": 1
        }
      ],
      "source": [
        "def capitalize(string):\n",
        "  return string.upper()\n",
        "\n",
        "capitalize(\"hello world\")"
      ]
    },
    {
      "cell_type": "code",
      "source": [
        "def num_caps(string):\n",
        "  count = 0\n",
        "  for i in string:\n",
        "    if i.isupper():\n",
        "        count += 1\n",
        "\n",
        "  return count\n",
        "\n",
        "num_caps(\"heLlo woRld\")"
      ],
      "metadata": {
        "id": "t-TqCPwW8Vcn",
        "outputId": "a1488415-d47d-4d56-d69e-e0607dc62941",
        "colab": {
          "base_uri": "https://localhost:8080/"
        }
      },
      "id": "t-TqCPwW8Vcn",
      "execution_count": 2,
      "outputs": [
        {
          "output_type": "execute_result",
          "data": {
            "text/plain": [
              "2"
            ]
          },
          "metadata": {},
          "execution_count": 2
        }
      ]
    },
    {
      "cell_type": "code",
      "source": [
        "def stringify(num):\n",
        "  return str(num)\n",
        "\n",
        "stringify(1234)"
      ],
      "metadata": {
        "id": "n-XfaAqF8_wS",
        "outputId": "7d02e785-e5df-4cc5-e813-063499224d3c",
        "colab": {
          "base_uri": "https://localhost:8080/",
          "height": 35
        }
      },
      "id": "n-XfaAqF8_wS",
      "execution_count": 3,
      "outputs": [
        {
          "output_type": "execute_result",
          "data": {
            "text/plain": [
              "'1234'"
            ],
            "application/vnd.google.colaboratory.intrinsic+json": {
              "type": "string"
            }
          },
          "metadata": {},
          "execution_count": 3
        }
      ]
    },
    {
      "cell_type": "code",
      "source": [
        "def generate_sentences(sub, verb, obj):\n",
        "  for i in sub:\n",
        "    for j in verb:\n",
        "      for k in obj:\n",
        "        print(f\"{i} {j} {k}\")\n",
        "\n",
        "  return\n",
        "\n",
        "sub = [\"I\", \"You\"]\n",
        "verb = [\"Read\", \"Borrow\"]\n",
        "obj = [\"Shakespeare's plays\", \"Shakespeare's poems\"]\n",
        "\n",
        "generate_sentences(sub, verb, obj)"
      ],
      "metadata": {
        "id": "R8-NS-509X-8",
        "outputId": "d5f7533d-6f1d-4c4f-ebaa-46db4ebca4e3",
        "colab": {
          "base_uri": "https://localhost:8080/"
        }
      },
      "id": "R8-NS-509X-8",
      "execution_count": 4,
      "outputs": [
        {
          "output_type": "stream",
          "name": "stdout",
          "text": [
            "I Read Shakespeare's plays\n",
            "I Read Shakespeare's poems\n",
            "I Borrow Shakespeare's plays\n",
            "I Borrow Shakespeare's poems\n",
            "You Read Shakespeare's plays\n",
            "You Read Shakespeare's poems\n",
            "You Borrow Shakespeare's plays\n",
            "You Borrow Shakespeare's poems\n"
          ]
        }
      ]
    },
    {
      "cell_type": "code",
      "source": [],
      "metadata": {
        "id": "mLMTeB1T-g2D"
      },
      "id": "mLMTeB1T-g2D",
      "execution_count": null,
      "outputs": []
    }
  ],
  "metadata": {
    "kernelspec": {
      "display_name": "base",
      "language": "python",
      "name": "base"
    },
    "language_info": {
      "codemirror_mode": {
        "name": "ipython",
        "version": 3
      },
      "file_extension": ".py",
      "mimetype": "text/x-python",
      "name": "python",
      "nbconvert_exporter": "python",
      "pygments_lexer": "ipython3",
      "version": "3.9.12"
    },
    "colab": {
      "provenance": []
    }
  },
  "nbformat": 4,
  "nbformat_minor": 5
}